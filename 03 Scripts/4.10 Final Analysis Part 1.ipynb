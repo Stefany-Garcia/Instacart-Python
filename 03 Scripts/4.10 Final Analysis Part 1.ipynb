{
 "cells": [
  {
   "cell_type": "markdown",
   "id": "38e2d882",
   "metadata": {},
   "source": [
    "# Contents\n",
    "\n",
    "    01. Importing libraries and data\n",
    "    02. Addressing PII\n",
    "    03. Regional segmentation of data\n",
    "    04. Addressing low-activity customers\n",
    "    05. Creating profiling variables\n",
    "        a. Age Profile\n",
    "        b. Income Profile\n",
    "        c. Pet Owners\n",
    "        d. Single Caretakers\n",
    "    06. Distribution of Customer Profiles\n",
    "        a. Age Group Distribution Bar Chart\n",
    "        b. Income Group Distribution Pie Chart\n",
    "        c. Pet Owners Distribution Pie Chart\n",
    "        d. Single Caretakers Distribution Pie Chart\n",
    "    07. Profile Aggregations\n",
    "        a. Age Profile\n",
    "        b. Income Profile\n",
    "        c. Pet Owners\n",
    "        d. Single Caretakers\n",
    "    08. Exporting Visualizations"
   ]
  },
  {
   "cell_type": "markdown",
   "id": "96b7ed6b",
   "metadata": {},
   "source": [
    "# 01. Importing libraries and data"
   ]
  },
  {
   "cell_type": "code",
   "execution_count": 1,
   "id": "fa5e1841",
   "metadata": {},
   "outputs": [],
   "source": [
    "# import libraries\n",
    "import pandas as pd\n",
    "import numpy as np\n",
    "import os\n",
    "import matplotlib.pyplot as plt\n",
    "import seaborn as sns\n",
    "import scipy"
   ]
  },
  {
   "cell_type": "code",
   "execution_count": 2,
   "id": "b252cb98",
   "metadata": {},
   "outputs": [],
   "source": [
    "#import data\n",
    "path = r'C:\\Users\\Admin\\Documents\\Data Analytics Course\\Achievement 4\\08-2020 Instacart Basket Analysis'\n",
    "ords_prods_customers = pd.read_pickle(os.path.join(path, '02 Data', 'Prepared Data', 'ords_prods_customers.pkl'))\n",
    "depts = pd.read_csv(os.path.join(path, '02 Data', 'Prepared Data', 'departments_wrangled.csv'), index_col=False)"
   ]
  },
  {
   "cell_type": "code",
   "execution_count": 3,
   "id": "2f41b43a",
   "metadata": {
    "scrolled": true
   },
   "outputs": [
    {
     "data": {
      "text/html": [
       "<div>\n",
       "<style scoped>\n",
       "    .dataframe tbody tr th:only-of-type {\n",
       "        vertical-align: middle;\n",
       "    }\n",
       "\n",
       "    .dataframe tbody tr th {\n",
       "        vertical-align: top;\n",
       "    }\n",
       "\n",
       "    .dataframe thead th {\n",
       "        text-align: right;\n",
       "    }\n",
       "</style>\n",
       "<table border=\"1\" class=\"dataframe\">\n",
       "  <thead>\n",
       "    <tr style=\"text-align: right;\">\n",
       "      <th></th>\n",
       "      <th>order_id</th>\n",
       "      <th>customer_id</th>\n",
       "      <th>order_number</th>\n",
       "      <th>orders_day_of_week</th>\n",
       "      <th>order_hour_of_day</th>\n",
       "      <th>days_since_prior_order</th>\n",
       "      <th>new_customer</th>\n",
       "      <th>product_id</th>\n",
       "      <th>add_to_cart_order</th>\n",
       "      <th>reordered</th>\n",
       "      <th>...</th>\n",
       "      <th>frequency_flag</th>\n",
       "      <th>first_name</th>\n",
       "      <th>surname</th>\n",
       "      <th>gender</th>\n",
       "      <th>state</th>\n",
       "      <th>age</th>\n",
       "      <th>date_joined</th>\n",
       "      <th>no_of_dependants</th>\n",
       "      <th>marital_status</th>\n",
       "      <th>income</th>\n",
       "    </tr>\n",
       "  </thead>\n",
       "  <tbody>\n",
       "    <tr>\n",
       "      <th>0</th>\n",
       "      <td>2539329</td>\n",
       "      <td>1</td>\n",
       "      <td>1</td>\n",
       "      <td>2</td>\n",
       "      <td>8</td>\n",
       "      <td>NaN</td>\n",
       "      <td>True</td>\n",
       "      <td>196</td>\n",
       "      <td>1</td>\n",
       "      <td>0</td>\n",
       "      <td>...</td>\n",
       "      <td>Non-frequent customer</td>\n",
       "      <td>Linda</td>\n",
       "      <td>Nguyen</td>\n",
       "      <td>Female</td>\n",
       "      <td>Alabama</td>\n",
       "      <td>31</td>\n",
       "      <td>2/17/2019</td>\n",
       "      <td>3</td>\n",
       "      <td>married</td>\n",
       "      <td>40423</td>\n",
       "    </tr>\n",
       "    <tr>\n",
       "      <th>1</th>\n",
       "      <td>2398795</td>\n",
       "      <td>1</td>\n",
       "      <td>2</td>\n",
       "      <td>3</td>\n",
       "      <td>7</td>\n",
       "      <td>15.0</td>\n",
       "      <td>False</td>\n",
       "      <td>196</td>\n",
       "      <td>1</td>\n",
       "      <td>1</td>\n",
       "      <td>...</td>\n",
       "      <td>Non-frequent customer</td>\n",
       "      <td>Linda</td>\n",
       "      <td>Nguyen</td>\n",
       "      <td>Female</td>\n",
       "      <td>Alabama</td>\n",
       "      <td>31</td>\n",
       "      <td>2/17/2019</td>\n",
       "      <td>3</td>\n",
       "      <td>married</td>\n",
       "      <td>40423</td>\n",
       "    </tr>\n",
       "    <tr>\n",
       "      <th>2</th>\n",
       "      <td>473747</td>\n",
       "      <td>1</td>\n",
       "      <td>3</td>\n",
       "      <td>3</td>\n",
       "      <td>12</td>\n",
       "      <td>21.0</td>\n",
       "      <td>False</td>\n",
       "      <td>196</td>\n",
       "      <td>1</td>\n",
       "      <td>1</td>\n",
       "      <td>...</td>\n",
       "      <td>Non-frequent customer</td>\n",
       "      <td>Linda</td>\n",
       "      <td>Nguyen</td>\n",
       "      <td>Female</td>\n",
       "      <td>Alabama</td>\n",
       "      <td>31</td>\n",
       "      <td>2/17/2019</td>\n",
       "      <td>3</td>\n",
       "      <td>married</td>\n",
       "      <td>40423</td>\n",
       "    </tr>\n",
       "    <tr>\n",
       "      <th>3</th>\n",
       "      <td>2254736</td>\n",
       "      <td>1</td>\n",
       "      <td>4</td>\n",
       "      <td>4</td>\n",
       "      <td>7</td>\n",
       "      <td>29.0</td>\n",
       "      <td>False</td>\n",
       "      <td>196</td>\n",
       "      <td>1</td>\n",
       "      <td>1</td>\n",
       "      <td>...</td>\n",
       "      <td>Non-frequent customer</td>\n",
       "      <td>Linda</td>\n",
       "      <td>Nguyen</td>\n",
       "      <td>Female</td>\n",
       "      <td>Alabama</td>\n",
       "      <td>31</td>\n",
       "      <td>2/17/2019</td>\n",
       "      <td>3</td>\n",
       "      <td>married</td>\n",
       "      <td>40423</td>\n",
       "    </tr>\n",
       "    <tr>\n",
       "      <th>4</th>\n",
       "      <td>431534</td>\n",
       "      <td>1</td>\n",
       "      <td>5</td>\n",
       "      <td>4</td>\n",
       "      <td>15</td>\n",
       "      <td>28.0</td>\n",
       "      <td>False</td>\n",
       "      <td>196</td>\n",
       "      <td>1</td>\n",
       "      <td>1</td>\n",
       "      <td>...</td>\n",
       "      <td>Non-frequent customer</td>\n",
       "      <td>Linda</td>\n",
       "      <td>Nguyen</td>\n",
       "      <td>Female</td>\n",
       "      <td>Alabama</td>\n",
       "      <td>31</td>\n",
       "      <td>2/17/2019</td>\n",
       "      <td>3</td>\n",
       "      <td>married</td>\n",
       "      <td>40423</td>\n",
       "    </tr>\n",
       "  </tbody>\n",
       "</table>\n",
       "<p>5 rows × 33 columns</p>\n",
       "</div>"
      ],
      "text/plain": [
       "   order_id customer_id  order_number  orders_day_of_week  order_hour_of_day  \\\n",
       "0   2539329           1             1                   2                  8   \n",
       "1   2398795           1             2                   3                  7   \n",
       "2    473747           1             3                   3                 12   \n",
       "3   2254736           1             4                   4                  7   \n",
       "4    431534           1             5                   4                 15   \n",
       "\n",
       "   days_since_prior_order  new_customer  product_id  add_to_cart_order  \\\n",
       "0                     NaN          True         196                  1   \n",
       "1                    15.0         False         196                  1   \n",
       "2                    21.0         False         196                  1   \n",
       "3                    29.0         False         196                  1   \n",
       "4                    28.0         False         196                  1   \n",
       "\n",
       "   reordered  ...         frequency_flag first_name  surname  gender    state  \\\n",
       "0          0  ...  Non-frequent customer      Linda   Nguyen  Female  Alabama   \n",
       "1          1  ...  Non-frequent customer      Linda   Nguyen  Female  Alabama   \n",
       "2          1  ...  Non-frequent customer      Linda   Nguyen  Female  Alabama   \n",
       "3          1  ...  Non-frequent customer      Linda   Nguyen  Female  Alabama   \n",
       "4          1  ...  Non-frequent customer      Linda   Nguyen  Female  Alabama   \n",
       "\n",
       "  age date_joined no_of_dependants  marital_status income  \n",
       "0  31   2/17/2019                3         married  40423  \n",
       "1  31   2/17/2019                3         married  40423  \n",
       "2  31   2/17/2019                3         married  40423  \n",
       "3  31   2/17/2019                3         married  40423  \n",
       "4  31   2/17/2019                3         married  40423  \n",
       "\n",
       "[5 rows x 33 columns]"
      ]
     },
     "execution_count": 3,
     "metadata": {},
     "output_type": "execute_result"
    }
   ],
   "source": [
    "ords_prods_customers.head()"
   ]
  },
  {
   "cell_type": "code",
   "execution_count": 4,
   "id": "67f37841",
   "metadata": {},
   "outputs": [
    {
     "data": {
      "text/plain": [
       "Frequent customer        21559853\n",
       "Regular customer          7208564\n",
       "Non-frequent customer     3636437\n",
       "Name: frequency_flag, dtype: int64"
      ]
     },
     "execution_count": 4,
     "metadata": {},
     "output_type": "execute_result"
    }
   ],
   "source": [
    "ords_prods_customers['frequency_flag'].value_counts()"
   ]
  },
  {
   "cell_type": "code",
   "execution_count": 5,
   "id": "09b01667",
   "metadata": {
    "scrolled": true
   },
   "outputs": [
    {
     "data": {
      "text/html": [
       "<div>\n",
       "<style scoped>\n",
       "    .dataframe tbody tr th:only-of-type {\n",
       "        vertical-align: middle;\n",
       "    }\n",
       "\n",
       "    .dataframe tbody tr th {\n",
       "        vertical-align: top;\n",
       "    }\n",
       "\n",
       "    .dataframe thead th {\n",
       "        text-align: right;\n",
       "    }\n",
       "</style>\n",
       "<table border=\"1\" class=\"dataframe\">\n",
       "  <thead>\n",
       "    <tr style=\"text-align: right;\">\n",
       "      <th></th>\n",
       "      <th>order_id</th>\n",
       "      <th>order_number</th>\n",
       "      <th>orders_day_of_week</th>\n",
       "      <th>order_hour_of_day</th>\n",
       "      <th>days_since_prior_order</th>\n",
       "      <th>product_id</th>\n",
       "      <th>add_to_cart_order</th>\n",
       "      <th>reordered</th>\n",
       "      <th>aisle_id</th>\n",
       "      <th>department_id</th>\n",
       "      <th>prices</th>\n",
       "      <th>max_order</th>\n",
       "      <th>mean_order</th>\n",
       "      <th>median_since_prior_order</th>\n",
       "      <th>age</th>\n",
       "      <th>no_of_dependants</th>\n",
       "      <th>income</th>\n",
       "    </tr>\n",
       "  </thead>\n",
       "  <tbody>\n",
       "    <tr>\n",
       "      <th>count</th>\n",
       "      <td>3.240486e+07</td>\n",
       "      <td>3.240486e+07</td>\n",
       "      <td>3.240486e+07</td>\n",
       "      <td>3.240486e+07</td>\n",
       "      <td>30328763.0</td>\n",
       "      <td>3.240486e+07</td>\n",
       "      <td>3.240486e+07</td>\n",
       "      <td>3.240486e+07</td>\n",
       "      <td>3.240486e+07</td>\n",
       "      <td>3.240486e+07</td>\n",
       "      <td>3.239973e+07</td>\n",
       "      <td>3.240486e+07</td>\n",
       "      <td>3.240486e+07</td>\n",
       "      <td>32404854.0</td>\n",
       "      <td>3.240486e+07</td>\n",
       "      <td>3.240486e+07</td>\n",
       "      <td>3.240486e+07</td>\n",
       "    </tr>\n",
       "    <tr>\n",
       "      <th>mean</th>\n",
       "      <td>1.710745e+06</td>\n",
       "      <td>1.714230e+01</td>\n",
       "      <td>2.738867e+00</td>\n",
       "      <td>1.342515e+01</td>\n",
       "      <td>NaN</td>\n",
       "      <td>2.559866e+04</td>\n",
       "      <td>8.352547e+00</td>\n",
       "      <td>5.895873e-01</td>\n",
       "      <td>6.449111e+01</td>\n",
       "      <td>9.919792e+00</td>\n",
       "      <td>7.790994e+00</td>\n",
       "      <td>3.305217e+01</td>\n",
       "      <td>7.218542e+00</td>\n",
       "      <td>NaN</td>\n",
       "      <td>4.946527e+01</td>\n",
       "      <td>1.501896e+00</td>\n",
       "      <td>9.943773e+04</td>\n",
       "    </tr>\n",
       "    <tr>\n",
       "      <th>std</th>\n",
       "      <td>9.872988e+05</td>\n",
       "      <td>1.753532e+01</td>\n",
       "      <td>2.090077e+00</td>\n",
       "      <td>4.246380e+00</td>\n",
       "      <td>0.0</td>\n",
       "      <td>1.408400e+04</td>\n",
       "      <td>7.127071e+00</td>\n",
       "      <td>4.919087e-01</td>\n",
       "      <td>4.843815e+01</td>\n",
       "      <td>6.281485e+00</td>\n",
       "      <td>4.241809e+00</td>\n",
       "      <td>2.515525e+01</td>\n",
       "      <td>8.977324e-01</td>\n",
       "      <td>0.0</td>\n",
       "      <td>1.848558e+01</td>\n",
       "      <td>1.118865e+00</td>\n",
       "      <td>4.305727e+04</td>\n",
       "    </tr>\n",
       "    <tr>\n",
       "      <th>min</th>\n",
       "      <td>2.000000e+00</td>\n",
       "      <td>1.000000e+00</td>\n",
       "      <td>0.000000e+00</td>\n",
       "      <td>0.000000e+00</td>\n",
       "      <td>0.0</td>\n",
       "      <td>1.000000e+00</td>\n",
       "      <td>1.000000e+00</td>\n",
       "      <td>0.000000e+00</td>\n",
       "      <td>-1.280000e+02</td>\n",
       "      <td>1.000000e+00</td>\n",
       "      <td>1.000000e+00</td>\n",
       "      <td>1.000000e+00</td>\n",
       "      <td>1.000000e+00</td>\n",
       "      <td>0.0</td>\n",
       "      <td>1.800000e+01</td>\n",
       "      <td>0.000000e+00</td>\n",
       "      <td>2.590300e+04</td>\n",
       "    </tr>\n",
       "    <tr>\n",
       "      <th>25%</th>\n",
       "      <td>8.559470e+05</td>\n",
       "      <td>5.000000e+00</td>\n",
       "      <td>1.000000e+00</td>\n",
       "      <td>1.000000e+01</td>\n",
       "      <td>5.0</td>\n",
       "      <td>1.354400e+04</td>\n",
       "      <td>3.000000e+00</td>\n",
       "      <td>0.000000e+00</td>\n",
       "      <td>2.400000e+01</td>\n",
       "      <td>4.000000e+00</td>\n",
       "      <td>4.200000e+00</td>\n",
       "      <td>1.300000e+01</td>\n",
       "      <td>7.378489e+00</td>\n",
       "      <td>6.0</td>\n",
       "      <td>3.300000e+01</td>\n",
       "      <td>1.000000e+00</td>\n",
       "      <td>6.700400e+04</td>\n",
       "    </tr>\n",
       "    <tr>\n",
       "      <th>50%</th>\n",
       "      <td>1.711049e+06</td>\n",
       "      <td>1.100000e+01</td>\n",
       "      <td>3.000000e+00</td>\n",
       "      <td>1.300000e+01</td>\n",
       "      <td>8.0</td>\n",
       "      <td>2.530200e+04</td>\n",
       "      <td>6.000000e+00</td>\n",
       "      <td>1.000000e+00</td>\n",
       "      <td>7.900000e+01</td>\n",
       "      <td>9.000000e+00</td>\n",
       "      <td>7.400000e+00</td>\n",
       "      <td>2.600000e+01</td>\n",
       "      <td>7.811940e+00</td>\n",
       "      <td>8.0</td>\n",
       "      <td>4.900000e+01</td>\n",
       "      <td>2.000000e+00</td>\n",
       "      <td>9.661800e+04</td>\n",
       "    </tr>\n",
       "    <tr>\n",
       "      <th>75%</th>\n",
       "      <td>2.565499e+06</td>\n",
       "      <td>2.400000e+01</td>\n",
       "      <td>5.000000e+00</td>\n",
       "      <td>1.600000e+01</td>\n",
       "      <td>15.0</td>\n",
       "      <td>3.794700e+04</td>\n",
       "      <td>1.100000e+01</td>\n",
       "      <td>1.000000e+00</td>\n",
       "      <td>1.000000e+02</td>\n",
       "      <td>1.600000e+01</td>\n",
       "      <td>1.130000e+01</td>\n",
       "      <td>4.700000e+01</td>\n",
       "      <td>8.229327e+00</td>\n",
       "      <td>13.0</td>\n",
       "      <td>6.500000e+01</td>\n",
       "      <td>3.000000e+00</td>\n",
       "      <td>1.279120e+05</td>\n",
       "    </tr>\n",
       "    <tr>\n",
       "      <th>max</th>\n",
       "      <td>3.421083e+06</td>\n",
       "      <td>9.900000e+01</td>\n",
       "      <td>6.000000e+00</td>\n",
       "      <td>2.300000e+01</td>\n",
       "      <td>30.0</td>\n",
       "      <td>4.968800e+04</td>\n",
       "      <td>1.450000e+02</td>\n",
       "      <td>1.000000e+00</td>\n",
       "      <td>1.270000e+02</td>\n",
       "      <td>2.100000e+01</td>\n",
       "      <td>2.500000e+01</td>\n",
       "      <td>9.900000e+01</td>\n",
       "      <td>2.320000e+01</td>\n",
       "      <td>30.0</td>\n",
       "      <td>8.100000e+01</td>\n",
       "      <td>3.000000e+00</td>\n",
       "      <td>5.939010e+05</td>\n",
       "    </tr>\n",
       "  </tbody>\n",
       "</table>\n",
       "</div>"
      ],
      "text/plain": [
       "           order_id  order_number  orders_day_of_week  order_hour_of_day  \\\n",
       "count  3.240486e+07  3.240486e+07        3.240486e+07       3.240486e+07   \n",
       "mean   1.710745e+06  1.714230e+01        2.738867e+00       1.342515e+01   \n",
       "std    9.872988e+05  1.753532e+01        2.090077e+00       4.246380e+00   \n",
       "min    2.000000e+00  1.000000e+00        0.000000e+00       0.000000e+00   \n",
       "25%    8.559470e+05  5.000000e+00        1.000000e+00       1.000000e+01   \n",
       "50%    1.711049e+06  1.100000e+01        3.000000e+00       1.300000e+01   \n",
       "75%    2.565499e+06  2.400000e+01        5.000000e+00       1.600000e+01   \n",
       "max    3.421083e+06  9.900000e+01        6.000000e+00       2.300000e+01   \n",
       "\n",
       "       days_since_prior_order    product_id  add_to_cart_order     reordered  \\\n",
       "count              30328763.0  3.240486e+07       3.240486e+07  3.240486e+07   \n",
       "mean                      NaN  2.559866e+04       8.352547e+00  5.895873e-01   \n",
       "std                       0.0  1.408400e+04       7.127071e+00  4.919087e-01   \n",
       "min                       0.0  1.000000e+00       1.000000e+00  0.000000e+00   \n",
       "25%                       5.0  1.354400e+04       3.000000e+00  0.000000e+00   \n",
       "50%                       8.0  2.530200e+04       6.000000e+00  1.000000e+00   \n",
       "75%                      15.0  3.794700e+04       1.100000e+01  1.000000e+00   \n",
       "max                      30.0  4.968800e+04       1.450000e+02  1.000000e+00   \n",
       "\n",
       "           aisle_id  department_id        prices     max_order    mean_order  \\\n",
       "count  3.240486e+07   3.240486e+07  3.239973e+07  3.240486e+07  3.240486e+07   \n",
       "mean   6.449111e+01   9.919792e+00  7.790994e+00  3.305217e+01  7.218542e+00   \n",
       "std    4.843815e+01   6.281485e+00  4.241809e+00  2.515525e+01  8.977324e-01   \n",
       "min   -1.280000e+02   1.000000e+00  1.000000e+00  1.000000e+00  1.000000e+00   \n",
       "25%    2.400000e+01   4.000000e+00  4.200000e+00  1.300000e+01  7.378489e+00   \n",
       "50%    7.900000e+01   9.000000e+00  7.400000e+00  2.600000e+01  7.811940e+00   \n",
       "75%    1.000000e+02   1.600000e+01  1.130000e+01  4.700000e+01  8.229327e+00   \n",
       "max    1.270000e+02   2.100000e+01  2.500000e+01  9.900000e+01  2.320000e+01   \n",
       "\n",
       "       median_since_prior_order           age  no_of_dependants        income  \n",
       "count                32404854.0  3.240486e+07      3.240486e+07  3.240486e+07  \n",
       "mean                        NaN  4.946527e+01      1.501896e+00  9.943773e+04  \n",
       "std                         0.0  1.848558e+01      1.118865e+00  4.305727e+04  \n",
       "min                         0.0  1.800000e+01      0.000000e+00  2.590300e+04  \n",
       "25%                         6.0  3.300000e+01      1.000000e+00  6.700400e+04  \n",
       "50%                         8.0  4.900000e+01      2.000000e+00  9.661800e+04  \n",
       "75%                        13.0  6.500000e+01      3.000000e+00  1.279120e+05  \n",
       "max                        30.0  8.100000e+01      3.000000e+00  5.939010e+05  "
      ]
     },
     "execution_count": 5,
     "metadata": {},
     "output_type": "execute_result"
    }
   ],
   "source": [
    "ords_prods_customers.describe()"
   ]
  },
  {
   "cell_type": "code",
   "execution_count": 6,
   "id": "e4879e3f",
   "metadata": {},
   "outputs": [
    {
     "data": {
      "text/plain": [
       "(32404859, 33)"
      ]
     },
     "execution_count": 6,
     "metadata": {},
     "output_type": "execute_result"
    }
   ],
   "source": [
    "ords_prods_customers.shape"
   ]
  },
  {
   "cell_type": "code",
   "execution_count": 7,
   "id": "40e3b1dd",
   "metadata": {},
   "outputs": [
    {
     "name": "stdout",
     "output_type": "stream",
     "text": [
      "<class 'pandas.core.frame.DataFrame'>\n",
      "Int64Index: 32404859 entries, 0 to 32404858\n",
      "Data columns (total 33 columns):\n",
      " #   Column                    Dtype   \n",
      "---  ------                    -----   \n",
      " 0   order_id                  int32   \n",
      " 1   customer_id               object  \n",
      " 2   order_number              int8    \n",
      " 3   orders_day_of_week        int8    \n",
      " 4   order_hour_of_day         int8    \n",
      " 5   days_since_prior_order    float16 \n",
      " 6   new_customer              bool    \n",
      " 7   product_id                int32   \n",
      " 8   add_to_cart_order         int32   \n",
      " 9   reordered                 int8    \n",
      " 10  _merge                    category\n",
      " 11  product_name              object  \n",
      " 12  aisle_id                  int8    \n",
      " 13  department_id             int8    \n",
      " 14  prices                    float64 \n",
      " 15  price_label               object  \n",
      " 16  busiest_days              object  \n",
      " 17  busiest_period_of_day     object  \n",
      " 18  max_order                 int8    \n",
      " 19  loyalty_flag              object  \n",
      " 20  mean_order                float32 \n",
      " 21  spending_flag             object  \n",
      " 22  median_since_prior_order  float16 \n",
      " 23  frequency_flag            object  \n",
      " 24  first_name                object  \n",
      " 25  surname                   object  \n",
      " 26  gender                    object  \n",
      " 27  state                     object  \n",
      " 28  age                       int8    \n",
      " 29  date_joined               object  \n",
      " 30  no_of_dependants          int8    \n",
      " 31  marital_status            object  \n",
      " 32  income                    int32   \n",
      "dtypes: bool(1), category(1), float16(2), float32(1), float64(1), int32(4), int8(9), object(14)\n",
      "memory usage: 4.9+ GB\n"
     ]
    }
   ],
   "source": [
    "ords_prods_customers.info()"
   ]
  },
  {
   "cell_type": "code",
   "execution_count": 8,
   "id": "10b04d6a",
   "metadata": {},
   "outputs": [
    {
     "data": {
      "text/html": [
       "<div>\n",
       "<style scoped>\n",
       "    .dataframe tbody tr th:only-of-type {\n",
       "        vertical-align: middle;\n",
       "    }\n",
       "\n",
       "    .dataframe tbody tr th {\n",
       "        vertical-align: top;\n",
       "    }\n",
       "\n",
       "    .dataframe thead th {\n",
       "        text-align: right;\n",
       "    }\n",
       "</style>\n",
       "<table border=\"1\" class=\"dataframe\">\n",
       "  <thead>\n",
       "    <tr style=\"text-align: right;\">\n",
       "      <th></th>\n",
       "      <th>Unnamed: 0</th>\n",
       "      <th>department</th>\n",
       "    </tr>\n",
       "  </thead>\n",
       "  <tbody>\n",
       "    <tr>\n",
       "      <th>0</th>\n",
       "      <td>1</td>\n",
       "      <td>frozen</td>\n",
       "    </tr>\n",
       "    <tr>\n",
       "      <th>1</th>\n",
       "      <td>2</td>\n",
       "      <td>other</td>\n",
       "    </tr>\n",
       "    <tr>\n",
       "      <th>2</th>\n",
       "      <td>3</td>\n",
       "      <td>bakery</td>\n",
       "    </tr>\n",
       "    <tr>\n",
       "      <th>3</th>\n",
       "      <td>4</td>\n",
       "      <td>produce</td>\n",
       "    </tr>\n",
       "    <tr>\n",
       "      <th>4</th>\n",
       "      <td>5</td>\n",
       "      <td>alcohol</td>\n",
       "    </tr>\n",
       "  </tbody>\n",
       "</table>\n",
       "</div>"
      ],
      "text/plain": [
       "   Unnamed: 0 department\n",
       "0           1     frozen\n",
       "1           2      other\n",
       "2           3     bakery\n",
       "3           4    produce\n",
       "4           5    alcohol"
      ]
     },
     "execution_count": 8,
     "metadata": {},
     "output_type": "execute_result"
    }
   ],
   "source": [
    "depts.head()"
   ]
  },
  {
   "cell_type": "code",
   "execution_count": 9,
   "id": "32be11ca",
   "metadata": {},
   "outputs": [],
   "source": [
    "#renaming unnamed column to 'department_id'\n",
    "depts.rename(columns={'Unnamed: 0':'department_id'}, inplace=True)"
   ]
  },
  {
   "cell_type": "code",
   "execution_count": 10,
   "id": "26b0de8a",
   "metadata": {},
   "outputs": [
    {
     "name": "stdout",
     "output_type": "stream",
     "text": [
      "<class 'pandas.core.frame.DataFrame'>\n",
      "RangeIndex: 21 entries, 0 to 20\n",
      "Data columns (total 2 columns):\n",
      " #   Column         Non-Null Count  Dtype \n",
      "---  ------         --------------  ----- \n",
      " 0   department_id  21 non-null     int64 \n",
      " 1   department     21 non-null     object\n",
      "dtypes: int64(1), object(1)\n",
      "memory usage: 464.0+ bytes\n"
     ]
    }
   ],
   "source": [
    "depts.info()"
   ]
  },
  {
   "cell_type": "code",
   "execution_count": 11,
   "id": "db72163c",
   "metadata": {},
   "outputs": [],
   "source": [
    "#changing department_id data type to save memory\n",
    "depts['department_id']=depts['department_id'].astype('int8')"
   ]
  },
  {
   "cell_type": "code",
   "execution_count": 12,
   "id": "4479b903",
   "metadata": {},
   "outputs": [],
   "source": [
    "#merging ords_prods_customers df and departments df \n",
    "merged_df = ords_prods_customers.merge(depts, on='department_id')"
   ]
  },
  {
   "cell_type": "code",
   "execution_count": 13,
   "id": "83bb2315",
   "metadata": {},
   "outputs": [
    {
     "data": {
      "text/html": [
       "<div>\n",
       "<style scoped>\n",
       "    .dataframe tbody tr th:only-of-type {\n",
       "        vertical-align: middle;\n",
       "    }\n",
       "\n",
       "    .dataframe tbody tr th {\n",
       "        vertical-align: top;\n",
       "    }\n",
       "\n",
       "    .dataframe thead th {\n",
       "        text-align: right;\n",
       "    }\n",
       "</style>\n",
       "<table border=\"1\" class=\"dataframe\">\n",
       "  <thead>\n",
       "    <tr style=\"text-align: right;\">\n",
       "      <th></th>\n",
       "      <th>order_id</th>\n",
       "      <th>customer_id</th>\n",
       "      <th>order_number</th>\n",
       "      <th>orders_day_of_week</th>\n",
       "      <th>order_hour_of_day</th>\n",
       "      <th>days_since_prior_order</th>\n",
       "      <th>new_customer</th>\n",
       "      <th>product_id</th>\n",
       "      <th>add_to_cart_order</th>\n",
       "      <th>reordered</th>\n",
       "      <th>...</th>\n",
       "      <th>first_name</th>\n",
       "      <th>surname</th>\n",
       "      <th>gender</th>\n",
       "      <th>state</th>\n",
       "      <th>age</th>\n",
       "      <th>date_joined</th>\n",
       "      <th>no_of_dependants</th>\n",
       "      <th>marital_status</th>\n",
       "      <th>income</th>\n",
       "      <th>department</th>\n",
       "    </tr>\n",
       "  </thead>\n",
       "  <tbody>\n",
       "    <tr>\n",
       "      <th>0</th>\n",
       "      <td>2539329</td>\n",
       "      <td>1</td>\n",
       "      <td>1</td>\n",
       "      <td>2</td>\n",
       "      <td>8</td>\n",
       "      <td>NaN</td>\n",
       "      <td>True</td>\n",
       "      <td>196</td>\n",
       "      <td>1</td>\n",
       "      <td>0</td>\n",
       "      <td>...</td>\n",
       "      <td>Linda</td>\n",
       "      <td>Nguyen</td>\n",
       "      <td>Female</td>\n",
       "      <td>Alabama</td>\n",
       "      <td>31</td>\n",
       "      <td>2/17/2019</td>\n",
       "      <td>3</td>\n",
       "      <td>married</td>\n",
       "      <td>40423</td>\n",
       "      <td>beverages</td>\n",
       "    </tr>\n",
       "    <tr>\n",
       "      <th>1</th>\n",
       "      <td>2398795</td>\n",
       "      <td>1</td>\n",
       "      <td>2</td>\n",
       "      <td>3</td>\n",
       "      <td>7</td>\n",
       "      <td>15.0</td>\n",
       "      <td>False</td>\n",
       "      <td>196</td>\n",
       "      <td>1</td>\n",
       "      <td>1</td>\n",
       "      <td>...</td>\n",
       "      <td>Linda</td>\n",
       "      <td>Nguyen</td>\n",
       "      <td>Female</td>\n",
       "      <td>Alabama</td>\n",
       "      <td>31</td>\n",
       "      <td>2/17/2019</td>\n",
       "      <td>3</td>\n",
       "      <td>married</td>\n",
       "      <td>40423</td>\n",
       "      <td>beverages</td>\n",
       "    </tr>\n",
       "    <tr>\n",
       "      <th>2</th>\n",
       "      <td>473747</td>\n",
       "      <td>1</td>\n",
       "      <td>3</td>\n",
       "      <td>3</td>\n",
       "      <td>12</td>\n",
       "      <td>21.0</td>\n",
       "      <td>False</td>\n",
       "      <td>196</td>\n",
       "      <td>1</td>\n",
       "      <td>1</td>\n",
       "      <td>...</td>\n",
       "      <td>Linda</td>\n",
       "      <td>Nguyen</td>\n",
       "      <td>Female</td>\n",
       "      <td>Alabama</td>\n",
       "      <td>31</td>\n",
       "      <td>2/17/2019</td>\n",
       "      <td>3</td>\n",
       "      <td>married</td>\n",
       "      <td>40423</td>\n",
       "      <td>beverages</td>\n",
       "    </tr>\n",
       "    <tr>\n",
       "      <th>3</th>\n",
       "      <td>2254736</td>\n",
       "      <td>1</td>\n",
       "      <td>4</td>\n",
       "      <td>4</td>\n",
       "      <td>7</td>\n",
       "      <td>29.0</td>\n",
       "      <td>False</td>\n",
       "      <td>196</td>\n",
       "      <td>1</td>\n",
       "      <td>1</td>\n",
       "      <td>...</td>\n",
       "      <td>Linda</td>\n",
       "      <td>Nguyen</td>\n",
       "      <td>Female</td>\n",
       "      <td>Alabama</td>\n",
       "      <td>31</td>\n",
       "      <td>2/17/2019</td>\n",
       "      <td>3</td>\n",
       "      <td>married</td>\n",
       "      <td>40423</td>\n",
       "      <td>beverages</td>\n",
       "    </tr>\n",
       "    <tr>\n",
       "      <th>4</th>\n",
       "      <td>431534</td>\n",
       "      <td>1</td>\n",
       "      <td>5</td>\n",
       "      <td>4</td>\n",
       "      <td>15</td>\n",
       "      <td>28.0</td>\n",
       "      <td>False</td>\n",
       "      <td>196</td>\n",
       "      <td>1</td>\n",
       "      <td>1</td>\n",
       "      <td>...</td>\n",
       "      <td>Linda</td>\n",
       "      <td>Nguyen</td>\n",
       "      <td>Female</td>\n",
       "      <td>Alabama</td>\n",
       "      <td>31</td>\n",
       "      <td>2/17/2019</td>\n",
       "      <td>3</td>\n",
       "      <td>married</td>\n",
       "      <td>40423</td>\n",
       "      <td>beverages</td>\n",
       "    </tr>\n",
       "  </tbody>\n",
       "</table>\n",
       "<p>5 rows × 34 columns</p>\n",
       "</div>"
      ],
      "text/plain": [
       "   order_id customer_id  order_number  orders_day_of_week  order_hour_of_day  \\\n",
       "0   2539329           1             1                   2                  8   \n",
       "1   2398795           1             2                   3                  7   \n",
       "2    473747           1             3                   3                 12   \n",
       "3   2254736           1             4                   4                  7   \n",
       "4    431534           1             5                   4                 15   \n",
       "\n",
       "   days_since_prior_order  new_customer  product_id  add_to_cart_order  \\\n",
       "0                     NaN          True         196                  1   \n",
       "1                    15.0         False         196                  1   \n",
       "2                    21.0         False         196                  1   \n",
       "3                    29.0         False         196                  1   \n",
       "4                    28.0         False         196                  1   \n",
       "\n",
       "   reordered  ... first_name surname  gender    state  age date_joined  \\\n",
       "0          0  ...      Linda  Nguyen  Female  Alabama   31   2/17/2019   \n",
       "1          1  ...      Linda  Nguyen  Female  Alabama   31   2/17/2019   \n",
       "2          1  ...      Linda  Nguyen  Female  Alabama   31   2/17/2019   \n",
       "3          1  ...      Linda  Nguyen  Female  Alabama   31   2/17/2019   \n",
       "4          1  ...      Linda  Nguyen  Female  Alabama   31   2/17/2019   \n",
       "\n",
       "  no_of_dependants marital_status  income department  \n",
       "0                3        married   40423  beverages  \n",
       "1                3        married   40423  beverages  \n",
       "2                3        married   40423  beverages  \n",
       "3                3        married   40423  beverages  \n",
       "4                3        married   40423  beverages  \n",
       "\n",
       "[5 rows x 34 columns]"
      ]
     },
     "execution_count": 13,
     "metadata": {},
     "output_type": "execute_result"
    }
   ],
   "source": [
    "merged_df.head()"
   ]
  },
  {
   "cell_type": "code",
   "execution_count": 14,
   "id": "49e51210",
   "metadata": {},
   "outputs": [
    {
     "data": {
      "text/html": [
       "<div>\n",
       "<style scoped>\n",
       "    .dataframe tbody tr th:only-of-type {\n",
       "        vertical-align: middle;\n",
       "    }\n",
       "\n",
       "    .dataframe tbody tr th {\n",
       "        vertical-align: top;\n",
       "    }\n",
       "\n",
       "    .dataframe thead th {\n",
       "        text-align: right;\n",
       "    }\n",
       "</style>\n",
       "<table border=\"1\" class=\"dataframe\">\n",
       "  <thead>\n",
       "    <tr style=\"text-align: right;\">\n",
       "      <th></th>\n",
       "      <th>order_id</th>\n",
       "      <th>order_number</th>\n",
       "      <th>orders_day_of_week</th>\n",
       "      <th>order_hour_of_day</th>\n",
       "      <th>days_since_prior_order</th>\n",
       "      <th>product_id</th>\n",
       "      <th>add_to_cart_order</th>\n",
       "      <th>reordered</th>\n",
       "      <th>aisle_id</th>\n",
       "      <th>department_id</th>\n",
       "      <th>prices</th>\n",
       "      <th>max_order</th>\n",
       "      <th>mean_order</th>\n",
       "      <th>median_since_prior_order</th>\n",
       "      <th>age</th>\n",
       "      <th>no_of_dependants</th>\n",
       "      <th>income</th>\n",
       "    </tr>\n",
       "  </thead>\n",
       "  <tbody>\n",
       "    <tr>\n",
       "      <th>count</th>\n",
       "      <td>3.240486e+07</td>\n",
       "      <td>3.240486e+07</td>\n",
       "      <td>3.240486e+07</td>\n",
       "      <td>3.240486e+07</td>\n",
       "      <td>30328763.0</td>\n",
       "      <td>3.240486e+07</td>\n",
       "      <td>3.240486e+07</td>\n",
       "      <td>3.240486e+07</td>\n",
       "      <td>3.240486e+07</td>\n",
       "      <td>3.240486e+07</td>\n",
       "      <td>3.239973e+07</td>\n",
       "      <td>3.240486e+07</td>\n",
       "      <td>3.240486e+07</td>\n",
       "      <td>32404854.0</td>\n",
       "      <td>3.240486e+07</td>\n",
       "      <td>3.240486e+07</td>\n",
       "      <td>3.240486e+07</td>\n",
       "    </tr>\n",
       "    <tr>\n",
       "      <th>mean</th>\n",
       "      <td>1.710745e+06</td>\n",
       "      <td>1.714230e+01</td>\n",
       "      <td>2.738867e+00</td>\n",
       "      <td>1.342515e+01</td>\n",
       "      <td>NaN</td>\n",
       "      <td>2.559866e+04</td>\n",
       "      <td>8.352547e+00</td>\n",
       "      <td>5.895873e-01</td>\n",
       "      <td>6.449111e+01</td>\n",
       "      <td>9.919792e+00</td>\n",
       "      <td>7.790994e+00</td>\n",
       "      <td>3.305217e+01</td>\n",
       "      <td>7.233186e+00</td>\n",
       "      <td>NaN</td>\n",
       "      <td>4.946527e+01</td>\n",
       "      <td>1.501896e+00</td>\n",
       "      <td>9.943773e+04</td>\n",
       "    </tr>\n",
       "    <tr>\n",
       "      <th>std</th>\n",
       "      <td>9.872988e+05</td>\n",
       "      <td>1.753532e+01</td>\n",
       "      <td>2.090077e+00</td>\n",
       "      <td>4.246380e+00</td>\n",
       "      <td>0.0</td>\n",
       "      <td>1.408400e+04</td>\n",
       "      <td>7.127071e+00</td>\n",
       "      <td>4.919087e-01</td>\n",
       "      <td>4.843815e+01</td>\n",
       "      <td>6.281485e+00</td>\n",
       "      <td>4.241809e+00</td>\n",
       "      <td>2.515525e+01</td>\n",
       "      <td>8.833877e-01</td>\n",
       "      <td>0.0</td>\n",
       "      <td>1.848558e+01</td>\n",
       "      <td>1.118865e+00</td>\n",
       "      <td>4.305727e+04</td>\n",
       "    </tr>\n",
       "    <tr>\n",
       "      <th>min</th>\n",
       "      <td>2.000000e+00</td>\n",
       "      <td>1.000000e+00</td>\n",
       "      <td>0.000000e+00</td>\n",
       "      <td>0.000000e+00</td>\n",
       "      <td>0.0</td>\n",
       "      <td>1.000000e+00</td>\n",
       "      <td>1.000000e+00</td>\n",
       "      <td>0.000000e+00</td>\n",
       "      <td>-1.280000e+02</td>\n",
       "      <td>1.000000e+00</td>\n",
       "      <td>1.000000e+00</td>\n",
       "      <td>1.000000e+00</td>\n",
       "      <td>1.000000e+00</td>\n",
       "      <td>0.0</td>\n",
       "      <td>1.800000e+01</td>\n",
       "      <td>0.000000e+00</td>\n",
       "      <td>2.590300e+04</td>\n",
       "    </tr>\n",
       "    <tr>\n",
       "      <th>25%</th>\n",
       "      <td>8.559470e+05</td>\n",
       "      <td>5.000000e+00</td>\n",
       "      <td>1.000000e+00</td>\n",
       "      <td>1.000000e+01</td>\n",
       "      <td>5.0</td>\n",
       "      <td>1.354400e+04</td>\n",
       "      <td>3.000000e+00</td>\n",
       "      <td>0.000000e+00</td>\n",
       "      <td>2.400000e+01</td>\n",
       "      <td>4.000000e+00</td>\n",
       "      <td>4.200000e+00</td>\n",
       "      <td>1.300000e+01</td>\n",
       "      <td>7.378489e+00</td>\n",
       "      <td>6.0</td>\n",
       "      <td>3.300000e+01</td>\n",
       "      <td>1.000000e+00</td>\n",
       "      <td>6.700400e+04</td>\n",
       "    </tr>\n",
       "    <tr>\n",
       "      <th>50%</th>\n",
       "      <td>1.711049e+06</td>\n",
       "      <td>1.100000e+01</td>\n",
       "      <td>3.000000e+00</td>\n",
       "      <td>1.300000e+01</td>\n",
       "      <td>8.0</td>\n",
       "      <td>2.530200e+04</td>\n",
       "      <td>6.000000e+00</td>\n",
       "      <td>1.000000e+00</td>\n",
       "      <td>7.900000e+01</td>\n",
       "      <td>9.000000e+00</td>\n",
       "      <td>7.400000e+00</td>\n",
       "      <td>2.600000e+01</td>\n",
       "      <td>7.811940e+00</td>\n",
       "      <td>8.0</td>\n",
       "      <td>4.900000e+01</td>\n",
       "      <td>2.000000e+00</td>\n",
       "      <td>9.661800e+04</td>\n",
       "    </tr>\n",
       "    <tr>\n",
       "      <th>75%</th>\n",
       "      <td>2.565499e+06</td>\n",
       "      <td>2.400000e+01</td>\n",
       "      <td>5.000000e+00</td>\n",
       "      <td>1.600000e+01</td>\n",
       "      <td>15.0</td>\n",
       "      <td>3.794700e+04</td>\n",
       "      <td>1.100000e+01</td>\n",
       "      <td>1.000000e+00</td>\n",
       "      <td>1.000000e+02</td>\n",
       "      <td>1.600000e+01</td>\n",
       "      <td>1.130000e+01</td>\n",
       "      <td>4.700000e+01</td>\n",
       "      <td>8.229327e+00</td>\n",
       "      <td>13.0</td>\n",
       "      <td>6.500000e+01</td>\n",
       "      <td>3.000000e+00</td>\n",
       "      <td>1.279120e+05</td>\n",
       "    </tr>\n",
       "    <tr>\n",
       "      <th>max</th>\n",
       "      <td>3.421083e+06</td>\n",
       "      <td>9.900000e+01</td>\n",
       "      <td>6.000000e+00</td>\n",
       "      <td>2.300000e+01</td>\n",
       "      <td>30.0</td>\n",
       "      <td>4.968800e+04</td>\n",
       "      <td>1.450000e+02</td>\n",
       "      <td>1.000000e+00</td>\n",
       "      <td>1.270000e+02</td>\n",
       "      <td>2.100000e+01</td>\n",
       "      <td>2.500000e+01</td>\n",
       "      <td>9.900000e+01</td>\n",
       "      <td>2.320000e+01</td>\n",
       "      <td>30.0</td>\n",
       "      <td>8.100000e+01</td>\n",
       "      <td>3.000000e+00</td>\n",
       "      <td>5.939010e+05</td>\n",
       "    </tr>\n",
       "  </tbody>\n",
       "</table>\n",
       "</div>"
      ],
      "text/plain": [
       "           order_id  order_number  orders_day_of_week  order_hour_of_day  \\\n",
       "count  3.240486e+07  3.240486e+07        3.240486e+07       3.240486e+07   \n",
       "mean   1.710745e+06  1.714230e+01        2.738867e+00       1.342515e+01   \n",
       "std    9.872988e+05  1.753532e+01        2.090077e+00       4.246380e+00   \n",
       "min    2.000000e+00  1.000000e+00        0.000000e+00       0.000000e+00   \n",
       "25%    8.559470e+05  5.000000e+00        1.000000e+00       1.000000e+01   \n",
       "50%    1.711049e+06  1.100000e+01        3.000000e+00       1.300000e+01   \n",
       "75%    2.565499e+06  2.400000e+01        5.000000e+00       1.600000e+01   \n",
       "max    3.421083e+06  9.900000e+01        6.000000e+00       2.300000e+01   \n",
       "\n",
       "       days_since_prior_order    product_id  add_to_cart_order     reordered  \\\n",
       "count              30328763.0  3.240486e+07       3.240486e+07  3.240486e+07   \n",
       "mean                      NaN  2.559866e+04       8.352547e+00  5.895873e-01   \n",
       "std                       0.0  1.408400e+04       7.127071e+00  4.919087e-01   \n",
       "min                       0.0  1.000000e+00       1.000000e+00  0.000000e+00   \n",
       "25%                       5.0  1.354400e+04       3.000000e+00  0.000000e+00   \n",
       "50%                       8.0  2.530200e+04       6.000000e+00  1.000000e+00   \n",
       "75%                      15.0  3.794700e+04       1.100000e+01  1.000000e+00   \n",
       "max                      30.0  4.968800e+04       1.450000e+02  1.000000e+00   \n",
       "\n",
       "           aisle_id  department_id        prices     max_order    mean_order  \\\n",
       "count  3.240486e+07   3.240486e+07  3.239973e+07  3.240486e+07  3.240486e+07   \n",
       "mean   6.449111e+01   9.919792e+00  7.790994e+00  3.305217e+01  7.233186e+00   \n",
       "std    4.843815e+01   6.281485e+00  4.241809e+00  2.515525e+01  8.833877e-01   \n",
       "min   -1.280000e+02   1.000000e+00  1.000000e+00  1.000000e+00  1.000000e+00   \n",
       "25%    2.400000e+01   4.000000e+00  4.200000e+00  1.300000e+01  7.378489e+00   \n",
       "50%    7.900000e+01   9.000000e+00  7.400000e+00  2.600000e+01  7.811940e+00   \n",
       "75%    1.000000e+02   1.600000e+01  1.130000e+01  4.700000e+01  8.229327e+00   \n",
       "max    1.270000e+02   2.100000e+01  2.500000e+01  9.900000e+01  2.320000e+01   \n",
       "\n",
       "       median_since_prior_order           age  no_of_dependants        income  \n",
       "count                32404854.0  3.240486e+07      3.240486e+07  3.240486e+07  \n",
       "mean                        NaN  4.946527e+01      1.501896e+00  9.943773e+04  \n",
       "std                         0.0  1.848558e+01      1.118865e+00  4.305727e+04  \n",
       "min                         0.0  1.800000e+01      0.000000e+00  2.590300e+04  \n",
       "25%                         6.0  3.300000e+01      1.000000e+00  6.700400e+04  \n",
       "50%                         8.0  4.900000e+01      2.000000e+00  9.661800e+04  \n",
       "75%                        13.0  6.500000e+01      3.000000e+00  1.279120e+05  \n",
       "max                        30.0  8.100000e+01      3.000000e+00  5.939010e+05  "
      ]
     },
     "execution_count": 14,
     "metadata": {},
     "output_type": "execute_result"
    }
   ],
   "source": [
    "merged_df.describe()"
   ]
  },
  {
   "cell_type": "code",
   "execution_count": 15,
   "id": "05a40058",
   "metadata": {},
   "outputs": [
    {
     "data": {
      "text/plain": [
       "(32404859, 34)"
      ]
     },
     "execution_count": 15,
     "metadata": {},
     "output_type": "execute_result"
    }
   ],
   "source": [
    "merged_df.shape"
   ]
  },
  {
   "cell_type": "code",
   "execution_count": 16,
   "id": "d57bc608",
   "metadata": {},
   "outputs": [],
   "source": [
    "#deleting ords_prods_customers df to save memory\n",
    "del ords_prods_customers"
   ]
  },
  {
   "cell_type": "markdown",
   "id": "8c521e1b",
   "metadata": {},
   "source": [
    "# 02. Addressing PII"
   ]
  },
  {
   "cell_type": "code",
   "execution_count": 17,
   "id": "d2612d79",
   "metadata": {},
   "outputs": [],
   "source": [
    "#removing first_name and surname columns to protect PII \n",
    "merged_df=merged_df.drop(columns=['first_name', 'surname'])"
   ]
  },
  {
   "cell_type": "code",
   "execution_count": 18,
   "id": "72159892",
   "metadata": {},
   "outputs": [
    {
     "data": {
      "text/plain": [
       "order_id                       int32\n",
       "customer_id                   object\n",
       "order_number                    int8\n",
       "orders_day_of_week              int8\n",
       "order_hour_of_day               int8\n",
       "days_since_prior_order       float16\n",
       "new_customer                    bool\n",
       "product_id                     int32\n",
       "add_to_cart_order              int32\n",
       "reordered                       int8\n",
       "_merge                      category\n",
       "product_name                  object\n",
       "aisle_id                        int8\n",
       "department_id                   int8\n",
       "prices                       float64\n",
       "price_label                   object\n",
       "busiest_days                  object\n",
       "busiest_period_of_day         object\n",
       "max_order                       int8\n",
       "loyalty_flag                  object\n",
       "mean_order                   float32\n",
       "spending_flag                 object\n",
       "median_since_prior_order     float16\n",
       "frequency_flag                object\n",
       "gender                        object\n",
       "state                         object\n",
       "age                             int8\n",
       "date_joined                   object\n",
       "no_of_dependants                int8\n",
       "marital_status                object\n",
       "income                         int32\n",
       "department                    object\n",
       "dtype: object"
      ]
     },
     "execution_count": 18,
     "metadata": {},
     "output_type": "execute_result"
    }
   ],
   "source": [
    "merged_df.dtypes"
   ]
  },
  {
   "cell_type": "markdown",
   "id": "e04ed59b",
   "metadata": {},
   "source": [
    "# 03. Regional segmentation of data"
   ]
  },
  {
   "cell_type": "code",
   "execution_count": 19,
   "id": "801ec94c",
   "metadata": {},
   "outputs": [],
   "source": [
    "#creating list of regions \n",
    "northeast=['Maine','New Hampshire','Vermont','Massachusetts','Rhode Island','Connecticut','New York','Pennsylvania','New Jersey']\n",
    "midwest=['Wisconsin','Michigan','Illinois','Indiana','Ohio','North Dakota','South Dakota','Nebraska','Kansas','Minnesota','Iowa','Missouri']\n",
    "south=['Delaware','Maryland','District of Columbia','Virginia','West Virginia','North Carolina','South Carolina','Georgia','Florida','Kentucky', 'Tennessee','Mississippi','Alabama','Oklahoma','Texas','Arkansas','Louisiana']\n",
    "west=['Idaho','Montana','Wyoming','Nevada','Utah','Colorado','Arizona','New Mexico','Alaska','Washington','Oregon','California','Hawaii']"
   ]
  },
  {
   "cell_type": "code",
   "execution_count": 20,
   "id": "a5bf47de",
   "metadata": {},
   "outputs": [],
   "source": [
    "#creating new columnn in ords_prods_customers df and setting it equal to the appropriate geographical areas list \n",
    "merged_df.loc[merged_df['state'].isin(northeast), 'region']='Northeast'\n",
    "merged_df.loc[merged_df['state'].isin(midwest), 'region']='Midwest'\n",
    "merged_df.loc[merged_df['state'].isin(south), 'region']='South'\n",
    "merged_df.loc[merged_df['state'].isin(west), 'region']='West'"
   ]
  },
  {
   "cell_type": "code",
   "execution_count": 21,
   "id": "0ff59f1b",
   "metadata": {},
   "outputs": [
    {
     "data": {
      "text/plain": [
       "South        10791885\n",
       "West          8292913\n",
       "Midwest       7597325\n",
       "Northeast     5722736\n",
       "Name: region, dtype: int64"
      ]
     },
     "execution_count": 21,
     "metadata": {},
     "output_type": "execute_result"
    }
   ],
   "source": [
    "merged_df['region'].value_counts(dropna = False)"
   ]
  },
  {
   "cell_type": "code",
   "execution_count": 22,
   "id": "76060159",
   "metadata": {},
   "outputs": [
    {
     "data": {
      "text/html": [
       "<div>\n",
       "<style scoped>\n",
       "    .dataframe tbody tr th:only-of-type {\n",
       "        vertical-align: middle;\n",
       "    }\n",
       "\n",
       "    .dataframe tbody tr th {\n",
       "        vertical-align: top;\n",
       "    }\n",
       "\n",
       "    .dataframe thead th {\n",
       "        text-align: right;\n",
       "    }\n",
       "</style>\n",
       "<table border=\"1\" class=\"dataframe\">\n",
       "  <thead>\n",
       "    <tr style=\"text-align: right;\">\n",
       "      <th>spending_flag</th>\n",
       "      <th>High Spender</th>\n",
       "      <th>Low Spender</th>\n",
       "    </tr>\n",
       "    <tr>\n",
       "      <th>region</th>\n",
       "      <th></th>\n",
       "      <th></th>\n",
       "    </tr>\n",
       "  </thead>\n",
       "  <tbody>\n",
       "    <tr>\n",
       "      <th>Midwest</th>\n",
       "      <td>29265</td>\n",
       "      <td>7568060</td>\n",
       "    </tr>\n",
       "    <tr>\n",
       "      <th>Northeast</th>\n",
       "      <td>18642</td>\n",
       "      <td>5704094</td>\n",
       "    </tr>\n",
       "    <tr>\n",
       "      <th>South</th>\n",
       "      <td>40579</td>\n",
       "      <td>10751306</td>\n",
       "    </tr>\n",
       "    <tr>\n",
       "      <th>West</th>\n",
       "      <td>31242</td>\n",
       "      <td>8261671</td>\n",
       "    </tr>\n",
       "  </tbody>\n",
       "</table>\n",
       "</div>"
      ],
      "text/plain": [
       "spending_flag  High Spender  Low Spender\n",
       "region                                  \n",
       "Midwest               29265      7568060\n",
       "Northeast             18642      5704094\n",
       "South                 40579     10751306\n",
       "West                  31242      8261671"
      ]
     },
     "execution_count": 22,
     "metadata": {},
     "output_type": "execute_result"
    }
   ],
   "source": [
    "#creating crosstab to determine if there are spending differences btwn regions\n",
    "crosstab_region_spending = pd.crosstab(merged_df['region'], merged_df['spending_flag'], dropna = False)\n",
    "crosstab_region_spending"
   ]
  },
  {
   "cell_type": "code",
   "execution_count": 23,
   "id": "8ca18407",
   "metadata": {},
   "outputs": [
    {
     "data": {
      "text/html": [
       "<div>\n",
       "<style scoped>\n",
       "    .dataframe tbody tr th:only-of-type {\n",
       "        vertical-align: middle;\n",
       "    }\n",
       "\n",
       "    .dataframe tbody tr th {\n",
       "        vertical-align: top;\n",
       "    }\n",
       "\n",
       "    .dataframe thead th {\n",
       "        text-align: right;\n",
       "    }\n",
       "</style>\n",
       "<table border=\"1\" class=\"dataframe\">\n",
       "  <thead>\n",
       "    <tr style=\"text-align: right;\">\n",
       "      <th></th>\n",
       "      <th>Total Price</th>\n",
       "      <th>Total Customer Count</th>\n",
       "      <th>Mean Price</th>\n",
       "    </tr>\n",
       "    <tr>\n",
       "      <th>region</th>\n",
       "      <th></th>\n",
       "      <th></th>\n",
       "      <th></th>\n",
       "    </tr>\n",
       "  </thead>\n",
       "  <tbody>\n",
       "    <tr>\n",
       "      <th>Midwest</th>\n",
       "      <td>59192977.7</td>\n",
       "      <td>48519</td>\n",
       "      <td>7.792588</td>\n",
       "    </tr>\n",
       "    <tr>\n",
       "      <th>Northeast</th>\n",
       "      <td>44530105.8</td>\n",
       "      <td>36388</td>\n",
       "      <td>7.782410</td>\n",
       "    </tr>\n",
       "    <tr>\n",
       "      <th>South</th>\n",
       "      <td>84107910.4</td>\n",
       "      <td>68737</td>\n",
       "      <td>7.794921</td>\n",
       "    </tr>\n",
       "    <tr>\n",
       "      <th>West</th>\n",
       "      <td>64595126.7</td>\n",
       "      <td>52565</td>\n",
       "      <td>7.790355</td>\n",
       "    </tr>\n",
       "  </tbody>\n",
       "</table>\n",
       "</div>"
      ],
      "text/plain": [
       "           Total Price  Total Customer Count  Mean Price\n",
       "region                                                  \n",
       "Midwest     59192977.7                 48519    7.792588\n",
       "Northeast   44530105.8                 36388    7.782410\n",
       "South       84107910.4                 68737    7.794921\n",
       "West        64595126.7                 52565    7.790355"
      ]
     },
     "execution_count": 23,
     "metadata": {},
     "output_type": "execute_result"
    }
   ],
   "source": [
    "unique_customers_region=merged_df.groupby('region').agg({'prices':['sum'],'customer_id':['nunique'], 'mean_order':['mean']})\n",
    "unique_customers_region.columns=['Total Price', 'Total Customer Count', 'Mean Price']\n",
    "unique_customers_region"
   ]
  },
  {
   "cell_type": "markdown",
   "id": "61448af4",
   "metadata": {},
   "source": [
    "The South has the most total customers, as well as the most total spent and the most number of high spenders. Percentage-wise, \n",
    "for each region, the total percentage of high spenders falls between 3.5% and 4%. Therefore, the South brings in more revenue due to having a larger number of customers, but the proportional breakdown of high versus low spenders is consistent throughout the regions. "
   ]
  },
  {
   "cell_type": "markdown",
   "id": "5b8e669e",
   "metadata": {},
   "source": [
    "# 04. Addressing low activity customers"
   ]
  },
  {
   "cell_type": "code",
   "execution_count": 24,
   "id": "f2dc363d",
   "metadata": {},
   "outputs": [],
   "source": [
    "#Create an exclusion flag for low-activity customers\n",
    "merged_df.loc[merged_df['max_order'] < 5, 'low_activity_flag'] = 'exclude_customer'\n",
    "merged_df.loc[merged_df['max_order'] >= 5, 'low_activity_flag'] = 'keep_customer'"
   ]
  },
  {
   "cell_type": "code",
   "execution_count": 25,
   "id": "5b339776",
   "metadata": {},
   "outputs": [
    {
     "data": {
      "text/plain": [
       "keep_customer       30964564\n",
       "exclude_customer     1440295\n",
       "Name: low_activity_flag, dtype: int64"
      ]
     },
     "execution_count": 25,
     "metadata": {},
     "output_type": "execute_result"
    }
   ],
   "source": [
    "#count\n",
    "merged_df['low_activity_flag'].value_counts(dropna=False)"
   ]
  },
  {
   "cell_type": "code",
   "execution_count": 26,
   "id": "a474208d",
   "metadata": {},
   "outputs": [],
   "source": [
    "#creating subset dataframe excluding low activty customers\n",
    "df_new = merged_df[merged_df['low_activity_flag']== 'keep_customer']"
   ]
  },
  {
   "cell_type": "code",
   "execution_count": 27,
   "id": "695f5aac",
   "metadata": {},
   "outputs": [
    {
     "data": {
      "text/plain": [
       "keep_customer    30964564\n",
       "Name: low_activity_flag, dtype: int64"
      ]
     },
     "execution_count": 27,
     "metadata": {},
     "output_type": "execute_result"
    }
   ],
   "source": [
    "#checking that only customers flagged to keep remain\n",
    "df_new['low_activity_flag'].value_counts(dropna=False)"
   ]
  },
  {
   "cell_type": "code",
   "execution_count": 28,
   "id": "0db679e1",
   "metadata": {},
   "outputs": [
    {
     "data": {
      "text/plain": [
       "(30964564, 34)"
      ]
     },
     "execution_count": 28,
     "metadata": {},
     "output_type": "execute_result"
    }
   ],
   "source": [
    "df_new.shape"
   ]
  },
  {
   "cell_type": "code",
   "execution_count": 27,
   "id": "5ad3101d",
   "metadata": {},
   "outputs": [
    {
     "data": {
      "text/html": [
       "<div>\n",
       "<style scoped>\n",
       "    .dataframe tbody tr th:only-of-type {\n",
       "        vertical-align: middle;\n",
       "    }\n",
       "\n",
       "    .dataframe tbody tr th {\n",
       "        vertical-align: top;\n",
       "    }\n",
       "\n",
       "    .dataframe thead th {\n",
       "        text-align: right;\n",
       "    }\n",
       "</style>\n",
       "<table border=\"1\" class=\"dataframe\">\n",
       "  <thead>\n",
       "    <tr style=\"text-align: right;\">\n",
       "      <th></th>\n",
       "      <th>order_id</th>\n",
       "      <th>customer_id</th>\n",
       "      <th>order_number</th>\n",
       "      <th>orders_day_of_week</th>\n",
       "      <th>order_hour_of_day</th>\n",
       "      <th>days_since_prior_order</th>\n",
       "      <th>new_customer</th>\n",
       "      <th>product_id</th>\n",
       "      <th>add_to_cart_order</th>\n",
       "      <th>reordered</th>\n",
       "      <th>...</th>\n",
       "      <th>gender</th>\n",
       "      <th>state</th>\n",
       "      <th>age</th>\n",
       "      <th>date_joined</th>\n",
       "      <th>no_of_dependants</th>\n",
       "      <th>marital_status</th>\n",
       "      <th>income</th>\n",
       "      <th>department</th>\n",
       "      <th>region</th>\n",
       "      <th>low_activity_flag</th>\n",
       "    </tr>\n",
       "  </thead>\n",
       "  <tbody>\n",
       "    <tr>\n",
       "      <th>0</th>\n",
       "      <td>2539329</td>\n",
       "      <td>1</td>\n",
       "      <td>1</td>\n",
       "      <td>2</td>\n",
       "      <td>8</td>\n",
       "      <td>NaN</td>\n",
       "      <td>True</td>\n",
       "      <td>196</td>\n",
       "      <td>1</td>\n",
       "      <td>0</td>\n",
       "      <td>...</td>\n",
       "      <td>Female</td>\n",
       "      <td>Alabama</td>\n",
       "      <td>31</td>\n",
       "      <td>2/17/2019</td>\n",
       "      <td>3</td>\n",
       "      <td>married</td>\n",
       "      <td>40423</td>\n",
       "      <td>beverages</td>\n",
       "      <td>South</td>\n",
       "      <td>keep_customer</td>\n",
       "    </tr>\n",
       "    <tr>\n",
       "      <th>1</th>\n",
       "      <td>2398795</td>\n",
       "      <td>1</td>\n",
       "      <td>2</td>\n",
       "      <td>3</td>\n",
       "      <td>7</td>\n",
       "      <td>15.0</td>\n",
       "      <td>False</td>\n",
       "      <td>196</td>\n",
       "      <td>1</td>\n",
       "      <td>1</td>\n",
       "      <td>...</td>\n",
       "      <td>Female</td>\n",
       "      <td>Alabama</td>\n",
       "      <td>31</td>\n",
       "      <td>2/17/2019</td>\n",
       "      <td>3</td>\n",
       "      <td>married</td>\n",
       "      <td>40423</td>\n",
       "      <td>beverages</td>\n",
       "      <td>South</td>\n",
       "      <td>keep_customer</td>\n",
       "    </tr>\n",
       "    <tr>\n",
       "      <th>2</th>\n",
       "      <td>473747</td>\n",
       "      <td>1</td>\n",
       "      <td>3</td>\n",
       "      <td>3</td>\n",
       "      <td>12</td>\n",
       "      <td>21.0</td>\n",
       "      <td>False</td>\n",
       "      <td>196</td>\n",
       "      <td>1</td>\n",
       "      <td>1</td>\n",
       "      <td>...</td>\n",
       "      <td>Female</td>\n",
       "      <td>Alabama</td>\n",
       "      <td>31</td>\n",
       "      <td>2/17/2019</td>\n",
       "      <td>3</td>\n",
       "      <td>married</td>\n",
       "      <td>40423</td>\n",
       "      <td>beverages</td>\n",
       "      <td>South</td>\n",
       "      <td>keep_customer</td>\n",
       "    </tr>\n",
       "    <tr>\n",
       "      <th>3</th>\n",
       "      <td>2254736</td>\n",
       "      <td>1</td>\n",
       "      <td>4</td>\n",
       "      <td>4</td>\n",
       "      <td>7</td>\n",
       "      <td>29.0</td>\n",
       "      <td>False</td>\n",
       "      <td>196</td>\n",
       "      <td>1</td>\n",
       "      <td>1</td>\n",
       "      <td>...</td>\n",
       "      <td>Female</td>\n",
       "      <td>Alabama</td>\n",
       "      <td>31</td>\n",
       "      <td>2/17/2019</td>\n",
       "      <td>3</td>\n",
       "      <td>married</td>\n",
       "      <td>40423</td>\n",
       "      <td>beverages</td>\n",
       "      <td>South</td>\n",
       "      <td>keep_customer</td>\n",
       "    </tr>\n",
       "    <tr>\n",
       "      <th>4</th>\n",
       "      <td>431534</td>\n",
       "      <td>1</td>\n",
       "      <td>5</td>\n",
       "      <td>4</td>\n",
       "      <td>15</td>\n",
       "      <td>28.0</td>\n",
       "      <td>False</td>\n",
       "      <td>196</td>\n",
       "      <td>1</td>\n",
       "      <td>1</td>\n",
       "      <td>...</td>\n",
       "      <td>Female</td>\n",
       "      <td>Alabama</td>\n",
       "      <td>31</td>\n",
       "      <td>2/17/2019</td>\n",
       "      <td>3</td>\n",
       "      <td>married</td>\n",
       "      <td>40423</td>\n",
       "      <td>beverages</td>\n",
       "      <td>South</td>\n",
       "      <td>keep_customer</td>\n",
       "    </tr>\n",
       "  </tbody>\n",
       "</table>\n",
       "<p>5 rows × 34 columns</p>\n",
       "</div>"
      ],
      "text/plain": [
       "   order_id customer_id  order_number  orders_day_of_week  order_hour_of_day  \\\n",
       "0   2539329           1             1                   2                  8   \n",
       "1   2398795           1             2                   3                  7   \n",
       "2    473747           1             3                   3                 12   \n",
       "3   2254736           1             4                   4                  7   \n",
       "4    431534           1             5                   4                 15   \n",
       "\n",
       "   days_since_prior_order  new_customer  product_id  add_to_cart_order  \\\n",
       "0                     NaN          True         196                  1   \n",
       "1                    15.0         False         196                  1   \n",
       "2                    21.0         False         196                  1   \n",
       "3                    29.0         False         196                  1   \n",
       "4                    28.0         False         196                  1   \n",
       "\n",
       "   reordered  ...  gender    state  age  date_joined  no_of_dependants  \\\n",
       "0          0  ...  Female  Alabama   31    2/17/2019                 3   \n",
       "1          1  ...  Female  Alabama   31    2/17/2019                 3   \n",
       "2          1  ...  Female  Alabama   31    2/17/2019                 3   \n",
       "3          1  ...  Female  Alabama   31    2/17/2019                 3   \n",
       "4          1  ...  Female  Alabama   31    2/17/2019                 3   \n",
       "\n",
       "  marital_status income department  region low_activity_flag  \n",
       "0        married  40423  beverages   South     keep_customer  \n",
       "1        married  40423  beverages   South     keep_customer  \n",
       "2        married  40423  beverages   South     keep_customer  \n",
       "3        married  40423  beverages   South     keep_customer  \n",
       "4        married  40423  beverages   South     keep_customer  \n",
       "\n",
       "[5 rows x 34 columns]"
      ]
     },
     "execution_count": 27,
     "metadata": {},
     "output_type": "execute_result"
    }
   ],
   "source": [
    "df_new.head()"
   ]
  },
  {
   "cell_type": "code",
   "execution_count": 28,
   "id": "a9b7b6dc",
   "metadata": {},
   "outputs": [
    {
     "name": "stdout",
     "output_type": "stream",
     "text": [
      "<class 'pandas.core.frame.DataFrame'>\n",
      "Int64Index: 30964564 entries, 0 to 32404855\n",
      "Data columns (total 34 columns):\n",
      " #   Column                    Dtype   \n",
      "---  ------                    -----   \n",
      " 0   order_id                  int32   \n",
      " 1   customer_id               object  \n",
      " 2   order_number              int8    \n",
      " 3   orders_day_of_week        int8    \n",
      " 4   order_hour_of_day         int8    \n",
      " 5   days_since_prior_order    float16 \n",
      " 6   new_customer              bool    \n",
      " 7   product_id                int32   \n",
      " 8   add_to_cart_order         int32   \n",
      " 9   reordered                 int8    \n",
      " 10  _merge                    category\n",
      " 11  product_name              object  \n",
      " 12  aisle_id                  int8    \n",
      " 13  department_id             int8    \n",
      " 14  prices                    float64 \n",
      " 15  price_label               object  \n",
      " 16  busiest_days              object  \n",
      " 17  busiest_period_of_day     object  \n",
      " 18  max_order                 int8    \n",
      " 19  loyalty_flag              object  \n",
      " 20  mean_order                float32 \n",
      " 21  spending_flag             object  \n",
      " 22  median_since_prior_order  float16 \n",
      " 23  frequency_flag            object  \n",
      " 24  gender                    object  \n",
      " 25  state                     object  \n",
      " 26  age                       int8    \n",
      " 27  date_joined               object  \n",
      " 28  no_of_dependants          int8    \n",
      " 29  marital_status            object  \n",
      " 30  income                    int32   \n",
      " 31  department                object  \n",
      " 32  region                    object  \n",
      " 33  low_activity_flag         object  \n",
      "dtypes: bool(1), category(1), float16(2), float32(1), float64(1), int32(4), int8(9), object(15)\n",
      "memory usage: 4.9+ GB\n"
     ]
    }
   ],
   "source": [
    "df_new.info()"
   ]
  },
  {
   "cell_type": "code",
   "execution_count": 29,
   "id": "7694247c",
   "metadata": {
    "scrolled": true
   },
   "outputs": [
    {
     "data": {
      "text/plain": [
       "array(['beverages', 'dairy eggs', 'snacks', 'household', 'produce',\n",
       "       'breakfast', 'pantry', 'bakery', 'frozen', 'dry goods pasta',\n",
       "       'canned goods', 'personal care', 'meat seafood', 'deli',\n",
       "       'international', 'alcohol', 'missing', 'pets', 'babies', 'other',\n",
       "       'bulk'], dtype=object)"
      ]
     },
     "execution_count": 29,
     "metadata": {},
     "output_type": "execute_result"
    }
   ],
   "source": [
    "df_new['department'].unique()"
   ]
  },
  {
   "cell_type": "code",
   "execution_count": 30,
   "id": "aa72493d",
   "metadata": {},
   "outputs": [],
   "source": [
    "#exporting dataframe subset with low activity customers excluded\n",
    "df_new.to_pickle(os.path.join(path, '02 Data','Prepared Data', 'ords_prods_cust_exclude.pkl'))"
   ]
  },
  {
   "cell_type": "markdown",
   "id": "0afe6b05",
   "metadata": {},
   "source": [
    "# 05. Creating profiling variables"
   ]
  },
  {
   "cell_type": "markdown",
   "id": "b441f573",
   "metadata": {},
   "source": [
    "## Age profile"
   ]
  },
  {
   "cell_type": "code",
   "execution_count": 15,
   "id": "0964035c",
   "metadata": {},
   "outputs": [
    {
     "name": "stderr",
     "output_type": "stream",
     "text": [
      "C:\\Users\\Admin\\AppData\\Local\\Temp\\ipykernel_13840\\1290417224.py:2: SettingWithCopyWarning: \n",
      "A value is trying to be set on a copy of a slice from a DataFrame.\n",
      "Try using .loc[row_indexer,col_indexer] = value instead\n",
      "\n",
      "See the caveats in the documentation: https://pandas.pydata.org/pandas-docs/stable/user_guide/indexing.html#returning-a-view-versus-a-copy\n",
      "  df_new.loc[(df_new['age']>=18)&(df_new['age']<=34), 'age_group']='early_adult'\n"
     ]
    },
    {
     "data": {
      "text/plain": [
       "late_middle_adult    9690051\n",
       "early_adult          8242295\n",
       "older_adult          8195544\n",
       "middle_adult         4836674\n",
       "Name: age_group, dtype: int64"
      ]
     },
     "execution_count": 15,
     "metadata": {},
     "output_type": "execute_result"
    }
   ],
   "source": [
    "#creating flags for customers based on age range\n",
    "df_new.loc[(df_new['age']>=18)&(df_new['age']<=34), 'age_group']='early_adult'\n",
    "df_new.loc[(df_new['age']>=35)&(df_new['age']<=44), 'age_group']='middle_adult'\n",
    "df_new.loc[(df_new['age']>=45)&(df_new['age']<=64), 'age_group']='late_middle_adult'\n",
    "df_new.loc[df_new['age']>=65, 'age_group']='older_adult'\n",
    "\n",
    "df_new['age_group'].value_counts(dropna=False)"
   ]
  },
  {
   "cell_type": "markdown",
   "id": "79d13614",
   "metadata": {},
   "source": [
    "## Income profile"
   ]
  },
  {
   "cell_type": "code",
   "execution_count": 16,
   "id": "cc72462f",
   "metadata": {},
   "outputs": [
    {
     "name": "stderr",
     "output_type": "stream",
     "text": [
      "C:\\Users\\Admin\\AppData\\Local\\Temp\\ipykernel_13840\\3019733051.py:2: SettingWithCopyWarning: \n",
      "A value is trying to be set on a copy of a slice from a DataFrame.\n",
      "Try using .loc[row_indexer,col_indexer] = value instead\n",
      "\n",
      "See the caveats in the documentation: https://pandas.pydata.org/pandas-docs/stable/user_guide/indexing.html#returning-a-view-versus-a-copy\n",
      "  df_new.loc[df_new['income']<52200, 'income_group']='low income'\n"
     ]
    },
    {
     "data": {
      "text/plain": [
       "middle income    24541393\n",
       "low income        3691708\n",
       "high income       2731463\n",
       "Name: income_group, dtype: int64"
      ]
     },
     "execution_count": 16,
     "metadata": {},
     "output_type": "execute_result"
    }
   ],
   "source": [
    "#creating flags for income (based on usweekly economic article) \n",
    "df_new.loc[df_new['income']<52200, 'income_group']='low income'\n",
    "df_new.loc[(52200 <= df_new['income'])&(156600 >= df_new['income']), 'income_group']='middle income'\n",
    "df_new.loc[156600 < df_new['income'], 'income_group']='high income'\n",
    "df_new['income_group'].value_counts(dropna=False)       "
   ]
  },
  {
   "cell_type": "markdown",
   "id": "576d3ae2",
   "metadata": {},
   "source": [
    "## Pet owners profile "
   ]
  },
  {
   "cell_type": "code",
   "execution_count": 17,
   "id": "1772fe60",
   "metadata": {},
   "outputs": [
    {
     "name": "stderr",
     "output_type": "stream",
     "text": [
      "C:\\Users\\Admin\\AppData\\Local\\Temp\\ipykernel_13840\\3281156152.py:2: SettingWithCopyWarning: \n",
      "A value is trying to be set on a copy of a slice from a DataFrame.\n",
      "Try using .loc[row_indexer,col_indexer] = value instead\n",
      "\n",
      "See the caveats in the documentation: https://pandas.pydata.org/pandas-docs/stable/user_guide/indexing.html#returning-a-view-versus-a-copy\n",
      "  df_new['pet_owner_flag'] = ['pet owner' if x == 'pets' else 'non pet owner' for x in df_new['department']]\n",
      "C:\\Users\\Admin\\AppData\\Local\\Temp\\ipykernel_13840\\3281156152.py:3: SettingWithCopyWarning: \n",
      "A value is trying to be set on a copy of a slice from a DataFrame.\n",
      "Try using .loc[row_indexer,col_indexer] = value instead\n",
      "\n",
      "See the caveats in the documentation: https://pandas.pydata.org/pandas-docs/stable/user_guide/indexing.html#returning-a-view-versus-a-copy\n",
      "  df_new['pet_owner_flag']=df_new.groupby(['customer_id'])['pet_owner_flag'].transform(np.max)\n"
     ]
    }
   ],
   "source": [
    "#creating a flag for customers who have bought pet supplies and those who havent\n",
    "df_new['pet_owner_flag'] = ['pet owner' if x == 'pets' else 'non pet owner' for x in df_new['department']]\n",
    "df_new['pet_owner_flag']=df_new.groupby(['customer_id'])['pet_owner_flag'].transform(np.max)"
   ]
  },
  {
   "cell_type": "code",
   "execution_count": 34,
   "id": "d5fbadc6",
   "metadata": {},
   "outputs": [
    {
     "data": {
      "text/plain": [
       "non pet owner    27513213\n",
       "pet owner         3451351\n",
       "Name: pet_owner_flag, dtype: int64"
      ]
     },
     "execution_count": 34,
     "metadata": {},
     "output_type": "execute_result"
    }
   ],
   "source": [
    "#checking pet owner flag values\n",
    "df_new['pet_owner_flag'].value_counts(dropna=False)"
   ]
  },
  {
   "cell_type": "code",
   "execution_count": 35,
   "id": "c028badc",
   "metadata": {},
   "outputs": [
    {
     "data": {
      "text/html": [
       "<div>\n",
       "<style scoped>\n",
       "    .dataframe tbody tr th:only-of-type {\n",
       "        vertical-align: middle;\n",
       "    }\n",
       "\n",
       "    .dataframe tbody tr th {\n",
       "        vertical-align: top;\n",
       "    }\n",
       "\n",
       "    .dataframe thead th {\n",
       "        text-align: right;\n",
       "    }\n",
       "</style>\n",
       "<table border=\"1\" class=\"dataframe\">\n",
       "  <thead>\n",
       "    <tr style=\"text-align: right;\">\n",
       "      <th>pet_owner_flag</th>\n",
       "      <th>non pet owner</th>\n",
       "      <th>pet owner</th>\n",
       "    </tr>\n",
       "    <tr>\n",
       "      <th>department</th>\n",
       "      <th></th>\n",
       "      <th></th>\n",
       "    </tr>\n",
       "  </thead>\n",
       "  <tbody>\n",
       "    <tr>\n",
       "      <th>False</th>\n",
       "      <td>27513213</td>\n",
       "      <td>3358291</td>\n",
       "    </tr>\n",
       "    <tr>\n",
       "      <th>True</th>\n",
       "      <td>0</td>\n",
       "      <td>93060</td>\n",
       "    </tr>\n",
       "  </tbody>\n",
       "</table>\n",
       "</div>"
      ],
      "text/plain": [
       "pet_owner_flag  non pet owner  pet owner\n",
       "department                              \n",
       "False                27513213    3358291\n",
       "True                        0      93060"
      ]
     },
     "execution_count": 35,
     "metadata": {},
     "output_type": "execute_result"
    }
   ],
   "source": [
    "#creating crosstab to check pet flag\n",
    "crosstab_pets = pd.crosstab(df_new['department']=='pets', df_new['pet_owner_flag'], dropna = False)\n",
    "crosstab_pets"
   ]
  },
  {
   "cell_type": "code",
   "execution_count": 36,
   "id": "7fb45338",
   "metadata": {},
   "outputs": [
    {
     "data": {
      "text/plain": [
       "non pet owner    27513213\n",
       "pet owner         3451351\n",
       "Name: pet_owner_flag, dtype: int64"
      ]
     },
     "execution_count": 36,
     "metadata": {},
     "output_type": "execute_result"
    }
   ],
   "source": [
    "df_new['pet_owner_flag'].value_counts(dropna=False)"
   ]
  },
  {
   "cell_type": "markdown",
   "id": "603cc895",
   "metadata": {},
   "source": [
    "## Single caretaker profile"
   ]
  },
  {
   "cell_type": "code",
   "execution_count": 18,
   "id": "b7d1c511",
   "metadata": {},
   "outputs": [
    {
     "name": "stderr",
     "output_type": "stream",
     "text": [
      "C:\\Users\\Admin\\AppData\\Local\\Temp\\ipykernel_13840\\1359483625.py:2: SettingWithCopyWarning: \n",
      "A value is trying to be set on a copy of a slice from a DataFrame.\n",
      "Try using .loc[row_indexer,col_indexer] = value instead\n",
      "\n",
      "See the caveats in the documentation: https://pandas.pydata.org/pandas-docs/stable/user_guide/indexing.html#returning-a-view-versus-a-copy\n",
      "  df_new.loc[(1 <= df_new['no_of_dependants'])&('married' != df_new['marital_status']), 'single_caretaker_flag'] = 'yes'\n"
     ]
    }
   ],
   "source": [
    "#creating flag for single adults with dependents (dependents are most likely children but could also include older adults)\n",
    "df_new.loc[(1 <= df_new['no_of_dependants'])&('married' != df_new['marital_status']), 'single_caretaker_flag'] = 'yes'\n",
    "df_new.loc[(1 <= df_new['no_of_dependants'])&('married' == df_new['marital_status']), 'single_caretaker_flag'] = 'no'\n"
   ]
  },
  {
   "cell_type": "code",
   "execution_count": 38,
   "id": "a3f7e23b",
   "metadata": {},
   "outputs": [
    {
     "data": {
      "text/plain": [
       "no     21743711\n",
       "NaN     7739681\n",
       "yes     1481172\n",
       "Name: single_caretaker_flag, dtype: int64"
      ]
     },
     "execution_count": 38,
     "metadata": {},
     "output_type": "execute_result"
    }
   ],
   "source": [
    "#checking single_caretaker_flag\n",
    "df_new['single_caretaker_flag'].value_counts(dropna=False)"
   ]
  },
  {
   "cell_type": "code",
   "execution_count": 39,
   "id": "8dd5733c",
   "metadata": {},
   "outputs": [],
   "source": [
    "#exporting dataframe subset with profiles\n",
    "df_new.to_pickle(os.path.join(path, '02 Data','Prepared Data', 'including_profiles.pkl'))"
   ]
  },
  {
   "cell_type": "markdown",
   "id": "b81ae698",
   "metadata": {},
   "source": [
    "# 06. Distribution of Customer Profiles"
   ]
  },
  {
   "cell_type": "code",
   "execution_count": 19,
   "id": "48acfbef",
   "metadata": {
    "scrolled": false
   },
   "outputs": [],
   "source": [
    "#removing duplicates to create a new data frame with only unique customers\n",
    "df_nodup=df_new.drop_duplicates(subset='customer_id')"
   ]
  },
  {
   "cell_type": "code",
   "execution_count": 40,
   "id": "98fd3794",
   "metadata": {},
   "outputs": [
    {
     "data": {
      "text/plain": [
       "(30964564, 38)"
      ]
     },
     "execution_count": 40,
     "metadata": {},
     "output_type": "execute_result"
    }
   ],
   "source": [
    "df_new.shape"
   ]
  },
  {
   "cell_type": "code",
   "execution_count": 41,
   "id": "8b885fb7",
   "metadata": {},
   "outputs": [
    {
     "data": {
      "text/plain": [
       "(162631, 38)"
      ]
     },
     "execution_count": 41,
     "metadata": {},
     "output_type": "execute_result"
    }
   ],
   "source": [
    "df_nodup.shape"
   ]
  },
  {
   "cell_type": "markdown",
   "id": "21dc4392",
   "metadata": {},
   "source": [
    "## Age Group Distribution Bar Chart"
   ]
  },
  {
   "cell_type": "code",
   "execution_count": 42,
   "id": "1f1aaf36",
   "metadata": {},
   "outputs": [
    {
     "data": {
      "text/plain": [
       "count                162631\n",
       "unique                    4\n",
       "top       late_middle_adult\n",
       "freq                  50993\n",
       "Name: age_group, dtype: object"
      ]
     },
     "execution_count": 42,
     "metadata": {},
     "output_type": "execute_result"
    }
   ],
   "source": [
    "df_nodup['age_group'].describe()"
   ]
  },
  {
   "cell_type": "code",
   "execution_count": 20,
   "id": "53cda59d",
   "metadata": {},
   "outputs": [
    {
     "data": {
      "text/plain": [
       "Text(0, 0.5, 'Number of Customers')"
      ]
     },
     "execution_count": 20,
     "metadata": {},
     "output_type": "execute_result"
    },
    {
     "data": {
      "image/png": "[encoded data removed]",
      "text/plain": [
       "<Figure size 1080x720 with 1 Axes>"
      ]
     },
     "metadata": {},
     "output_type": "display_data"
    }
   ],
   "source": [
    "#setting chart size\n",
    "sns.set(rc = {'figure.figsize':(15,10)})\n",
    "\n",
    "#plotting chart showing distribution of customer ages\n",
    "age_bar = df_nodup['age_group'].value_counts().plot.bar(color=['#606f49', '#849669', '#a6b98b', '#c2d5aa'], fontsize=15)\n",
    "plt.title('Distribution of Customer Ages', fontsize=15)\n",
    "plt.xlabel('Age Group', fontsize=15)\n",
    "plt.ylabel('Number of Customers', fontsize=15)"
   ]
  },
  {
   "cell_type": "markdown",
   "id": "096ba330",
   "metadata": {},
   "source": [
    "## Income Groups Distribution Pie Chart"
   ]
  },
  {
   "cell_type": "code",
   "execution_count": 24,
   "id": "04cde446",
   "metadata": {},
   "outputs": [
    {
     "data": {
      "text/plain": [
       "Text(0.5, 1.0, 'Distribution of Customer Income')"
      ]
     },
     "execution_count": 24,
     "metadata": {},
     "output_type": "execute_result"
    },
    {
     "data": {
      "image/png": "[encoded data removed]",
      "text/plain": [
       "<Figure size 1080x720 with 1 Axes>"
      ]
     },
     "metadata": {},
     "output_type": "display_data"
    }
   ],
   "source": [
    "#setting chart size\n",
    "sns.set(rc = {'figure.figsize':(15,10)})\n",
    "\n",
    "#plotting chart showing distribution of customer ages\n",
    "income_pie = df_nodup['income_group'].value_counts().plot.pie(\n",
    "    label = '',\n",
    "    labels=['Middle Income', 'Low Income', 'High Income'],\n",
    "    autopct=('%1.f%%'),\n",
    "    colors=['#606f49', '#a6b98b', '#c2d5aa'],\n",
    "    fontsize=15)\n",
    "plt.title('Distribution of Customer Income', fontsize=15)\n"
   ]
  },
  {
   "cell_type": "markdown",
   "id": "94b7223e",
   "metadata": {},
   "source": [
    "## Pet Owners Distribution Pie Chart"
   ]
  },
  {
   "cell_type": "code",
   "execution_count": 25,
   "id": "698620d8",
   "metadata": {},
   "outputs": [
    {
     "data": {
      "text/plain": [
       "Text(0.5, 1.0, 'Distribution of Pet Owner Customers')"
      ]
     },
     "execution_count": 25,
     "metadata": {},
     "output_type": "execute_result"
    },
    {
     "data": {
      "image/png": "[encoded data removed]",
      "text/plain": [
       "<Figure size 1080x720 with 1 Axes>"
      ]
     },
     "metadata": {},
     "output_type": "display_data"
    }
   ],
   "source": [
    "#setting chart size\n",
    "sns.set(rc = {'figure.figsize':(15,10)})\n",
    "\n",
    "#plotting chart showing distribution of customers who are pet owners\n",
    "pet_pie = df_nodup['pet_owner_flag'].value_counts().plot.pie(\n",
    "    label = '',\n",
    "    labels=['Non Pet Owner', 'Pet Owner'],\n",
    "    autopct=('%1.f%%'),\n",
    "    colors=['#606f49', '#a6b98b', '#c2d5aa'],\n",
    "    fontsize=15)\n",
    "plt.title('Distribution of Pet Owner Customers', fontsize=15)\n"
   ]
  },
  {
   "cell_type": "markdown",
   "id": "ce26bc5f",
   "metadata": {},
   "source": [
    "## Single Caretakers Distribution Pie Chart"
   ]
  },
  {
   "cell_type": "code",
   "execution_count": 26,
   "id": "82f7e2d7",
   "metadata": {},
   "outputs": [
    {
     "data": {
      "text/plain": [
       "Text(0.5, 1.0, 'Distribution of Single Caretakers Customers')"
      ]
     },
     "execution_count": 26,
     "metadata": {},
     "output_type": "execute_result"
    },
    {
     "data": {
      "image/png": "[encoded data removed]",
      "text/plain": [
       "<Figure size 1080x720 with 1 Axes>"
      ]
     },
     "metadata": {},
     "output_type": "display_data"
    }
   ],
   "source": [
    "#setting chart size\n",
    "sns.set(rc = {'figure.figsize':(15,10)})\n",
    "\n",
    "#plotting chart showing distribution of customers who are single caretakers\n",
    "single_caretakers_pie = df_nodup['single_caretaker_flag'].value_counts().plot.pie(\n",
    "    label = '',\n",
    "    labels=['Not a single caretaker', 'Single Caretaker'],\n",
    "    autopct=('%1.f%%'),\n",
    "    colors=['#606f49', '#a6b98b', '#c2d5aa'],\n",
    "    fontsize=15)\n",
    "plt.title('Distribution of Single Caretakers Customers', fontsize=15)\n"
   ]
  },
  {
   "cell_type": "markdown",
   "id": "282bea02",
   "metadata": {},
   "source": [
    "# 07. Profile Aggregations"
   ]
  },
  {
   "cell_type": "markdown",
   "id": "e40d2923",
   "metadata": {},
   "source": [
    "## Age Profile"
   ]
  },
  {
   "cell_type": "code",
   "execution_count": 47,
   "id": "d0be6d66",
   "metadata": {},
   "outputs": [
    {
     "data": {
      "text/html": [
       "<div>\n",
       "<style scoped>\n",
       "    .dataframe tbody tr th:only-of-type {\n",
       "        vertical-align: middle;\n",
       "    }\n",
       "\n",
       "    .dataframe tbody tr th {\n",
       "        vertical-align: top;\n",
       "    }\n",
       "\n",
       "    .dataframe thead tr th {\n",
       "        text-align: left;\n",
       "    }\n",
       "\n",
       "    .dataframe thead tr:last-of-type th {\n",
       "        text-align: right;\n",
       "    }\n",
       "</style>\n",
       "<table border=\"1\" class=\"dataframe\">\n",
       "  <thead>\n",
       "    <tr>\n",
       "      <th></th>\n",
       "      <th colspan=\"3\" halign=\"left\">median_since_prior_order</th>\n",
       "      <th colspan=\"3\" halign=\"left\">prices</th>\n",
       "    </tr>\n",
       "    <tr>\n",
       "      <th></th>\n",
       "      <th>mean</th>\n",
       "      <th>min</th>\n",
       "      <th>max</th>\n",
       "      <th>mean</th>\n",
       "      <th>min</th>\n",
       "      <th>max</th>\n",
       "    </tr>\n",
       "    <tr>\n",
       "      <th>age_group</th>\n",
       "      <th></th>\n",
       "      <th></th>\n",
       "      <th></th>\n",
       "      <th></th>\n",
       "      <th></th>\n",
       "      <th></th>\n",
       "    </tr>\n",
       "  </thead>\n",
       "  <tbody>\n",
       "    <tr>\n",
       "      <th>early_adult</th>\n",
       "      <td>9.960938</td>\n",
       "      <td>0.0</td>\n",
       "      <td>30.0</td>\n",
       "      <td>7.784978</td>\n",
       "      <td>1.0</td>\n",
       "      <td>25.0</td>\n",
       "    </tr>\n",
       "    <tr>\n",
       "      <th>late_middle_adult</th>\n",
       "      <td>9.992188</td>\n",
       "      <td>0.0</td>\n",
       "      <td>30.0</td>\n",
       "      <td>7.789059</td>\n",
       "      <td>1.0</td>\n",
       "      <td>25.0</td>\n",
       "    </tr>\n",
       "    <tr>\n",
       "      <th>middle_adult</th>\n",
       "      <td>9.921875</td>\n",
       "      <td>0.0</td>\n",
       "      <td>30.0</td>\n",
       "      <td>7.792842</td>\n",
       "      <td>1.0</td>\n",
       "      <td>25.0</td>\n",
       "    </tr>\n",
       "    <tr>\n",
       "      <th>older_adult</th>\n",
       "      <td>9.929688</td>\n",
       "      <td>0.0</td>\n",
       "      <td>30.0</td>\n",
       "      <td>7.796715</td>\n",
       "      <td>1.0</td>\n",
       "      <td>25.0</td>\n",
       "    </tr>\n",
       "  </tbody>\n",
       "</table>\n",
       "</div>"
      ],
      "text/plain": [
       "                  median_since_prior_order               prices           \n",
       "                                      mean  min   max      mean  min   max\n",
       "age_group                                                                 \n",
       "early_adult                       9.960938  0.0  30.0  7.784978  1.0  25.0\n",
       "late_middle_adult                 9.992188  0.0  30.0  7.789059  1.0  25.0\n",
       "middle_adult                      9.921875  0.0  30.0  7.792842  1.0  25.0\n",
       "older_adult                       9.929688  0.0  30.0  7.796715  1.0  25.0"
      ]
     },
     "execution_count": 47,
     "metadata": {},
     "output_type": "execute_result"
    }
   ],
   "source": [
    "df_new.groupby(['age_group']).agg({'median_since_prior_order':['mean', 'min', 'max'], 'prices':['mean', 'min', 'max']})"
   ]
  },
  {
   "cell_type": "markdown",
   "id": "d7e200f7",
   "metadata": {},
   "source": [
    "## Income Profile"
   ]
  },
  {
   "cell_type": "code",
   "execution_count": 48,
   "id": "83c7cf8b",
   "metadata": {},
   "outputs": [
    {
     "data": {
      "text/html": [
       "<div>\n",
       "<style scoped>\n",
       "    .dataframe tbody tr th:only-of-type {\n",
       "        vertical-align: middle;\n",
       "    }\n",
       "\n",
       "    .dataframe tbody tr th {\n",
       "        vertical-align: top;\n",
       "    }\n",
       "\n",
       "    .dataframe thead tr th {\n",
       "        text-align: left;\n",
       "    }\n",
       "\n",
       "    .dataframe thead tr:last-of-type th {\n",
       "        text-align: right;\n",
       "    }\n",
       "</style>\n",
       "<table border=\"1\" class=\"dataframe\">\n",
       "  <thead>\n",
       "    <tr>\n",
       "      <th></th>\n",
       "      <th colspan=\"3\" halign=\"left\">median_since_prior_order</th>\n",
       "      <th colspan=\"3\" halign=\"left\">prices</th>\n",
       "    </tr>\n",
       "    <tr>\n",
       "      <th></th>\n",
       "      <th>mean</th>\n",
       "      <th>min</th>\n",
       "      <th>max</th>\n",
       "      <th>mean</th>\n",
       "      <th>min</th>\n",
       "      <th>max</th>\n",
       "    </tr>\n",
       "    <tr>\n",
       "      <th>income_group</th>\n",
       "      <th></th>\n",
       "      <th></th>\n",
       "      <th></th>\n",
       "      <th></th>\n",
       "      <th></th>\n",
       "      <th></th>\n",
       "    </tr>\n",
       "  </thead>\n",
       "  <tbody>\n",
       "    <tr>\n",
       "      <th>high income</th>\n",
       "      <td>9.765625</td>\n",
       "      <td>0.0</td>\n",
       "      <td>30.0</td>\n",
       "      <td>7.936962</td>\n",
       "      <td>1.0</td>\n",
       "      <td>25.0</td>\n",
       "    </tr>\n",
       "    <tr>\n",
       "      <th>low income</th>\n",
       "      <td>10.476562</td>\n",
       "      <td>0.0</td>\n",
       "      <td>30.0</td>\n",
       "      <td>6.766241</td>\n",
       "      <td>1.0</td>\n",
       "      <td>25.0</td>\n",
       "    </tr>\n",
       "    <tr>\n",
       "      <th>middle income</th>\n",
       "      <td>9.898438</td>\n",
       "      <td>0.0</td>\n",
       "      <td>30.0</td>\n",
       "      <td>7.928418</td>\n",
       "      <td>1.0</td>\n",
       "      <td>25.0</td>\n",
       "    </tr>\n",
       "  </tbody>\n",
       "</table>\n",
       "</div>"
      ],
      "text/plain": [
       "              median_since_prior_order               prices           \n",
       "                                  mean  min   max      mean  min   max\n",
       "income_group                                                          \n",
       "high income                   9.765625  0.0  30.0  7.936962  1.0  25.0\n",
       "low income                   10.476562  0.0  30.0  6.766241  1.0  25.0\n",
       "middle income                 9.898438  0.0  30.0  7.928418  1.0  25.0"
      ]
     },
     "execution_count": 48,
     "metadata": {},
     "output_type": "execute_result"
    }
   ],
   "source": [
    "df_new.groupby(['income_group']).agg({'median_since_prior_order':['mean', 'min', 'max'], 'prices':['mean', 'min', 'max']})"
   ]
  },
  {
   "cell_type": "markdown",
   "id": "1d862031",
   "metadata": {},
   "source": [
    "## Pet Owners"
   ]
  },
  {
   "cell_type": "code",
   "execution_count": 49,
   "id": "31712bdd",
   "metadata": {},
   "outputs": [
    {
     "data": {
      "text/html": [
       "<div>\n",
       "<style scoped>\n",
       "    .dataframe tbody tr th:only-of-type {\n",
       "        vertical-align: middle;\n",
       "    }\n",
       "\n",
       "    .dataframe tbody tr th {\n",
       "        vertical-align: top;\n",
       "    }\n",
       "\n",
       "    .dataframe thead tr th {\n",
       "        text-align: left;\n",
       "    }\n",
       "\n",
       "    .dataframe thead tr:last-of-type th {\n",
       "        text-align: right;\n",
       "    }\n",
       "</style>\n",
       "<table border=\"1\" class=\"dataframe\">\n",
       "  <thead>\n",
       "    <tr>\n",
       "      <th></th>\n",
       "      <th colspan=\"3\" halign=\"left\">median_since_prior_order</th>\n",
       "      <th colspan=\"3\" halign=\"left\">prices</th>\n",
       "    </tr>\n",
       "    <tr>\n",
       "      <th></th>\n",
       "      <th>mean</th>\n",
       "      <th>min</th>\n",
       "      <th>max</th>\n",
       "      <th>mean</th>\n",
       "      <th>min</th>\n",
       "      <th>max</th>\n",
       "    </tr>\n",
       "    <tr>\n",
       "      <th>pet_owner_flag</th>\n",
       "      <th></th>\n",
       "      <th></th>\n",
       "      <th></th>\n",
       "      <th></th>\n",
       "      <th></th>\n",
       "      <th></th>\n",
       "    </tr>\n",
       "  </thead>\n",
       "  <tbody>\n",
       "    <tr>\n",
       "      <th>non pet owner</th>\n",
       "      <td>10.054688</td>\n",
       "      <td>0.0</td>\n",
       "      <td>30.0</td>\n",
       "      <td>7.787939</td>\n",
       "      <td>1.0</td>\n",
       "      <td>25.0</td>\n",
       "    </tr>\n",
       "    <tr>\n",
       "      <th>pet owner</th>\n",
       "      <td>9.195312</td>\n",
       "      <td>0.0</td>\n",
       "      <td>30.0</td>\n",
       "      <td>7.811730</td>\n",
       "      <td>1.0</td>\n",
       "      <td>25.0</td>\n",
       "    </tr>\n",
       "  </tbody>\n",
       "</table>\n",
       "</div>"
      ],
      "text/plain": [
       "               median_since_prior_order               prices           \n",
       "                                   mean  min   max      mean  min   max\n",
       "pet_owner_flag                                                         \n",
       "non pet owner                 10.054688  0.0  30.0  7.787939  1.0  25.0\n",
       "pet owner                      9.195312  0.0  30.0  7.811730  1.0  25.0"
      ]
     },
     "execution_count": 49,
     "metadata": {},
     "output_type": "execute_result"
    }
   ],
   "source": [
    "df_new.groupby(['pet_owner_flag']).agg({'median_since_prior_order':['mean', 'min', 'max'], 'prices':['mean', 'min', 'max']})"
   ]
  },
  {
   "cell_type": "markdown",
   "id": "8223c03a",
   "metadata": {},
   "source": [
    "## Single Caretakers"
   ]
  },
  {
   "cell_type": "code",
   "execution_count": 21,
   "id": "1de4f184",
   "metadata": {},
   "outputs": [
    {
     "data": {
      "text/html": [
       "<div>\n",
       "<style scoped>\n",
       "    .dataframe tbody tr th:only-of-type {\n",
       "        vertical-align: middle;\n",
       "    }\n",
       "\n",
       "    .dataframe tbody tr th {\n",
       "        vertical-align: top;\n",
       "    }\n",
       "\n",
       "    .dataframe thead tr th {\n",
       "        text-align: left;\n",
       "    }\n",
       "\n",
       "    .dataframe thead tr:last-of-type th {\n",
       "        text-align: right;\n",
       "    }\n",
       "</style>\n",
       "<table border=\"1\" class=\"dataframe\">\n",
       "  <thead>\n",
       "    <tr>\n",
       "      <th></th>\n",
       "      <th colspan=\"3\" halign=\"left\">median_since_prior_order</th>\n",
       "      <th colspan=\"3\" halign=\"left\">prices</th>\n",
       "    </tr>\n",
       "    <tr>\n",
       "      <th></th>\n",
       "      <th>mean</th>\n",
       "      <th>min</th>\n",
       "      <th>max</th>\n",
       "      <th>mean</th>\n",
       "      <th>min</th>\n",
       "      <th>max</th>\n",
       "    </tr>\n",
       "    <tr>\n",
       "      <th>single_caretaker_flag</th>\n",
       "      <th></th>\n",
       "      <th></th>\n",
       "      <th></th>\n",
       "      <th></th>\n",
       "      <th></th>\n",
       "      <th></th>\n",
       "    </tr>\n",
       "  </thead>\n",
       "  <tbody>\n",
       "    <tr>\n",
       "      <th>no</th>\n",
       "      <td>9.968750</td>\n",
       "      <td>0.0</td>\n",
       "      <td>30.0</td>\n",
       "      <td>7.790278</td>\n",
       "      <td>1.0</td>\n",
       "      <td>25.0</td>\n",
       "    </tr>\n",
       "    <tr>\n",
       "      <th>yes</th>\n",
       "      <td>9.867188</td>\n",
       "      <td>0.0</td>\n",
       "      <td>30.0</td>\n",
       "      <td>7.800604</td>\n",
       "      <td>1.0</td>\n",
       "      <td>25.0</td>\n",
       "    </tr>\n",
       "  </tbody>\n",
       "</table>\n",
       "</div>"
      ],
      "text/plain": [
       "                      median_since_prior_order               prices           \n",
       "                                          mean  min   max      mean  min   max\n",
       "single_caretaker_flag                                                         \n",
       "no                                    9.968750  0.0  30.0  7.790278  1.0  25.0\n",
       "yes                                   9.867188  0.0  30.0  7.800604  1.0  25.0"
      ]
     },
     "execution_count": 21,
     "metadata": {},
     "output_type": "execute_result"
    }
   ],
   "source": [
    "df_new.groupby(['single_caretaker_flag']).agg({'median_since_prior_order':['mean', 'min', 'max'], 'prices':['mean', 'min', 'max']})"
   ]
  },
  {
   "cell_type": "markdown",
   "id": "ed1a6d23",
   "metadata": {},
   "source": [
    "# 08. Exporting Visualizations"
   ]
  },
  {
   "cell_type": "code",
   "execution_count": 27,
   "id": "9b820b46",
   "metadata": {},
   "outputs": [],
   "source": [
    "age_bar.figure.savefig(os.path.join(path, '04 Analysis','Visualizations', 'age_bar.png'))\n",
    "income_pie.figure.savefig(os.path.join(path, '04 Analysis','Visualizations', 'income_pie.png'))\n",
    "pet_pie.figure.savefig(os.path.join(path, '04 Analysis','Visualizations', 'pet_pie.png'))\n",
    "single_caretakers_pie.figure.savefig(os.path.join(path, '04 Analysis','Visualizations', 'single_caretakers_pie.png'))"
   ]
  },
  {
   "cell_type": "code",
   "execution_count": null,
   "id": "e3ecd845",
   "metadata": {},
   "outputs": [],
   "source": []
  },
  {
   "cell_type": "code",
   "execution_count": null,
   "id": "4b16e940",
   "metadata": {},
   "outputs": [],
   "source": []
  },
  {
   "cell_type": "code",
   "execution_count": null,
   "id": "8d595f72",
   "metadata": {},
   "outputs": [],
   "source": []
  },
  {
   "cell_type": "code",
   "execution_count": null,
   "id": "c4726143",
   "metadata": {},
   "outputs": [],
   "source": []
  },
  {
   "cell_type": "code",
   "execution_count": null,
   "id": "9bf10c6f",
   "metadata": {},
   "outputs": [],
   "source": []
  },
  {
   "cell_type": "code",
   "execution_count": null,
   "id": "36950220",
   "metadata": {},
   "outputs": [],
   "source": []
  },
  {
   "cell_type": "code",
   "execution_count": null,
   "id": "2668b845",
   "metadata": {},
   "outputs": [],
   "source": []
  }
 ],
 "metadata": {
  "kernelspec": {
   "display_name": "Python 3 (ipykernel)",
   "language": "python",
   "name": "python3"
  },
  "language_info": {
   "codemirror_mode": {
    "name": "ipython",
    "version": 3
   },
   "file_extension": ".py",
   "mimetype": "text/x-python",
   "name": "python",
   "nbconvert_exporter": "python",
   "pygments_lexer": "ipython3",
   "version": "3.9.12"
  }
 },
 "nbformat": 4,
 "nbformat_minor": 5
}
