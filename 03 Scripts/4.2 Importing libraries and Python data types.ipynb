{
 "cells": [
  {
   "cell_type": "markdown",
   "id": "2f99d810",
   "metadata": {},
   "source": [
    "# 01. Importing Libraries"
   ]
  },
  {
   "cell_type": "code",
   "execution_count": 1,
   "id": "7fcb32d7",
   "metadata": {},
   "outputs": [],
   "source": [
    "# Import libraries\n",
    "import pandas as pd\n",
    "import numpy as np\n",
    "import os\n"
   ]
  },
  {
   "cell_type": "code",
   "execution_count": 2,
   "id": "63d1778f",
   "metadata": {},
   "outputs": [],
   "source": [
    "x = 2"
   ]
  },
  {
   "cell_type": "markdown",
   "id": "5aa540e2",
   "metadata": {},
   "source": [
    "# 02. Data Types"
   ]
  },
  {
   "cell_type": "code",
   "execution_count": 10,
   "id": "95f9629a",
   "metadata": {},
   "outputs": [],
   "source": [
    "# 7) 3 ways of reaching 100"
   ]
  },
  {
   "cell_type": "code",
   "execution_count": 11,
   "id": "92a6d423",
   "metadata": {},
   "outputs": [
    {
     "data": {
      "text/plain": [
       "100"
      ]
     },
     "execution_count": 11,
     "metadata": {},
     "output_type": "execute_result"
    }
   ],
   "source": [
    "25 * 4"
   ]
  },
  {
   "cell_type": "code",
   "execution_count": 8,
   "id": "a260771d",
   "metadata": {},
   "outputs": [
    {
     "data": {
      "text/plain": [
       "100"
      ]
     },
     "execution_count": 8,
     "metadata": {},
     "output_type": "execute_result"
    }
   ],
   "source": [
    "200 - 100"
   ]
  },
  {
   "cell_type": "code",
   "execution_count": 25,
   "id": "e33fa391",
   "metadata": {},
   "outputs": [
    {
     "data": {
      "text/plain": [
       "100"
      ]
     },
     "execution_count": 25,
     "metadata": {},
     "output_type": "execute_result"
    }
   ],
   "source": [
    "x = 50\n",
    "x * 2"
   ]
  },
  {
   "cell_type": "code",
   "execution_count": 16,
   "id": "e9bba9af",
   "metadata": {},
   "outputs": [
    {
     "data": {
      "text/plain": [
       "4.636363636363637"
      ]
     },
     "execution_count": 16,
     "metadata": {},
     "output_type": "execute_result"
    }
   ],
   "source": [
    "# 8) Code 2 floating-point variables and divide them by each other.\n",
    "x = 25.5\n",
    "y = 5.5\n",
    "x/y"
   ]
  },
  {
   "cell_type": "code",
   "execution_count": 26,
   "id": "915a5e46",
   "metadata": {},
   "outputs": [
    {
     "data": {
      "text/plain": [
       "'paintbrush'"
      ]
     },
     "execution_count": 26,
     "metadata": {},
     "output_type": "execute_result"
    }
   ],
   "source": [
    "# 9) Construct a short word made of separate strings\n",
    "\n",
    "a = 'paint'\n",
    "b = 'brush'\n",
    "a+b"
   ]
  },
  {
   "cell_type": "code",
   "execution_count": null,
   "id": "19f2fd52",
   "metadata": {},
   "outputs": [],
   "source": [
    "# Construct 2 short sentences made of separate strings."
   ]
  },
  {
   "cell_type": "code",
   "execution_count": 21,
   "id": "59ccfab3",
   "metadata": {},
   "outputs": [],
   "source": [
    "x = \"I'm learning the programming language Python.\"\n",
    "y = \" It's cool.\""
   ]
  },
  {
   "cell_type": "code",
   "execution_count": 22,
   "id": "bc38ff44",
   "metadata": {},
   "outputs": [
    {
     "data": {
      "text/plain": [
       "\"I'm learning the programming language Python. It's cool.\""
      ]
     },
     "execution_count": 22,
     "metadata": {},
     "output_type": "execute_result"
    }
   ],
   "source": [
    "x + y"
   ]
  },
  {
   "cell_type": "code",
   "execution_count": 24,
   "id": "4022b3f9",
   "metadata": {},
   "outputs": [
    {
     "name": "stdout",
     "output_type": "stream",
     "text": [
      "dogdogdogdogdogdogdogdogdogdogdogdogdogdogdogdogdogdogdogdogdogdogdogdogdogdogdogdogdogdogdogdogdogdogdogdogdogdogdogdogdogdogdogdogdogdogdogdogdogdogdogdogdogdogdogdogdogdogdogdogdogdogdogdogdogdogdogdogdogdogdogdogdogdogdogdogdogdogdogdogdogdogdogdogdogdogdogdogdogdogdogdogdogdogdogdogdogdogdogdog\n"
     ]
    }
   ],
   "source": [
    "# Bonus: Include a command that makes a string appear 100 times.\n",
    "\n",
    "B = \"dog\" * 100 \n",
    "print(B)"
   ]
  },
  {
   "cell_type": "code",
   "execution_count": null,
   "id": "005ac374",
   "metadata": {},
   "outputs": [],
   "source": []
  }
 ],
 "metadata": {
  "kernelspec": {
   "display_name": "Python 3 (ipykernel)",
   "language": "python",
   "name": "python3"
  },
  "language_info": {
   "codemirror_mode": {
    "name": "ipython",
    "version": 3
   },
   "file_extension": ".py",
   "mimetype": "text/x-python",
   "name": "python",
   "nbconvert_exporter": "python",
   "pygments_lexer": "ipython3",
   "version": "3.9.12"
  }
 },
 "nbformat": 4,
 "nbformat_minor": 5
}
