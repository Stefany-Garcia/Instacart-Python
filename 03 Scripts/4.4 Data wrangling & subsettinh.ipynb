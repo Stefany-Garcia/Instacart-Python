{
 "cells": [
  {
   "cell_type": "markdown",
   "id": "46b044d7",
   "metadata": {},
   "source": [
    "# Data wrangling from the reading"
   ]
  },
  {
   "cell_type": "code",
   "execution_count": 1,
   "id": "c4f2d121",
   "metadata": {},
   "outputs": [],
   "source": [
    "# importing libraries\n",
    "import pandas as pd\n",
    "import numpy as np\n",
    "import os"
   ]
  },
  {
   "cell_type": "code",
   "execution_count": 2,
   "id": "0adae101",
   "metadata": {},
   "outputs": [],
   "source": [
    "#path\n",
    "path = r'C:\\Users\\Admin\\Documents\\Data Analytics Course\\Achievement 4\\08-2020 Instacart Basket Analysis'"
   ]
  },
  {
   "cell_type": "code",
   "execution_count": 3,
   "id": "3a68eda8",
   "metadata": {},
   "outputs": [],
   "source": [
    "#importing data sets\n",
    "df_ords = pd.read_csv(os.path.join(path, '02 Data', 'Original Data', 'orders.csv'), index_col = False)\n",
    "df_prods = pd.read_csv(os.path.join(path, '02 Data', 'Original Data', 'products.csv'))"
   ]
  },
  {
   "cell_type": "code",
   "execution_count": 4,
   "id": "944ef510",
   "metadata": {},
   "outputs": [],
   "source": [
    "df = pd.read_csv(os.path.join(path, '02 Data', 'Original Data', 'orders.csv'), index_col = False)"
   ]
  },
  {
   "cell_type": "code",
   "execution_count": 6,
   "id": "61c4f6a5",
   "metadata": {},
   "outputs": [
    {
     "data": {
      "text/plain": [
       "(3421083, 7)"
      ]
     },
     "execution_count": 6,
     "metadata": {},
     "output_type": "execute_result"
    }
   ],
   "source": [
    "df_ords.shape"
   ]
  },
  {
   "cell_type": "code",
   "execution_count": 11,
   "id": "e6b55acd",
   "metadata": {},
   "outputs": [
    {
     "data": {
      "text/html": [
       "<div>\n",
       "<style scoped>\n",
       "    .dataframe tbody tr th:only-of-type {\n",
       "        vertical-align: middle;\n",
       "    }\n",
       "\n",
       "    .dataframe tbody tr th {\n",
       "        vertical-align: top;\n",
       "    }\n",
       "\n",
       "    .dataframe thead th {\n",
       "        text-align: right;\n",
       "    }\n",
       "</style>\n",
       "<table border=\"1\" class=\"dataframe\">\n",
       "  <thead>\n",
       "    <tr style=\"text-align: right;\">\n",
       "      <th></th>\n",
       "      <th>order_id</th>\n",
       "      <th>user_id</th>\n",
       "      <th>eval_set</th>\n",
       "      <th>order_number</th>\n",
       "      <th>order_dow</th>\n",
       "      <th>order_hour_of_day</th>\n",
       "      <th>days_since_prior_order</th>\n",
       "    </tr>\n",
       "  </thead>\n",
       "  <tbody>\n",
       "    <tr>\n",
       "      <th>0</th>\n",
       "      <td>2539329</td>\n",
       "      <td>1</td>\n",
       "      <td>prior</td>\n",
       "      <td>1</td>\n",
       "      <td>2</td>\n",
       "      <td>8</td>\n",
       "      <td>NaN</td>\n",
       "    </tr>\n",
       "    <tr>\n",
       "      <th>1</th>\n",
       "      <td>2398795</td>\n",
       "      <td>1</td>\n",
       "      <td>prior</td>\n",
       "      <td>2</td>\n",
       "      <td>3</td>\n",
       "      <td>7</td>\n",
       "      <td>15.0</td>\n",
       "    </tr>\n",
       "    <tr>\n",
       "      <th>2</th>\n",
       "      <td>473747</td>\n",
       "      <td>1</td>\n",
       "      <td>prior</td>\n",
       "      <td>3</td>\n",
       "      <td>3</td>\n",
       "      <td>12</td>\n",
       "      <td>21.0</td>\n",
       "    </tr>\n",
       "    <tr>\n",
       "      <th>3</th>\n",
       "      <td>2254736</td>\n",
       "      <td>1</td>\n",
       "      <td>prior</td>\n",
       "      <td>4</td>\n",
       "      <td>4</td>\n",
       "      <td>7</td>\n",
       "      <td>29.0</td>\n",
       "    </tr>\n",
       "    <tr>\n",
       "      <th>4</th>\n",
       "      <td>431534</td>\n",
       "      <td>1</td>\n",
       "      <td>prior</td>\n",
       "      <td>5</td>\n",
       "      <td>4</td>\n",
       "      <td>15</td>\n",
       "      <td>28.0</td>\n",
       "    </tr>\n",
       "  </tbody>\n",
       "</table>\n",
       "</div>"
      ],
      "text/plain": [
       "   order_id  user_id eval_set  order_number  order_dow  order_hour_of_day  \\\n",
       "0   2539329        1    prior             1          2                  8   \n",
       "1   2398795        1    prior             2          3                  7   \n",
       "2    473747        1    prior             3          3                 12   \n",
       "3   2254736        1    prior             4          4                  7   \n",
       "4    431534        1    prior             5          4                 15   \n",
       "\n",
       "   days_since_prior_order  \n",
       "0                     NaN  \n",
       "1                    15.0  \n",
       "2                    21.0  \n",
       "3                    29.0  \n",
       "4                    28.0  "
      ]
     },
     "execution_count": 11,
     "metadata": {},
     "output_type": "execute_result"
    }
   ],
   "source": [
    "df.head()"
   ]
  },
  {
   "cell_type": "code",
   "execution_count": 12,
   "id": "8235de62",
   "metadata": {},
   "outputs": [],
   "source": [
    "# deleting the eval_set column\n",
    "df_ords = df_ords.drop(columns = ['eval_set'])"
   ]
  },
  {
   "cell_type": "code",
   "execution_count": null,
   "id": "085de6ca",
   "metadata": {},
   "outputs": [],
   "source": [
    "#looking for missing values in the \"days_since_prior_order\" column\n",
    "df_ords['days_since_prior_order'].value_counts(dropna = False)"
   ]
  },
  {
   "cell_type": "code",
   "execution_count": null,
   "id": "e6c78472",
   "metadata": {},
   "outputs": [],
   "source": [
    "# renaming order_dow column\n",
    "df_ords.rename(columns = {'order_dow' : 'orders_day_of_week'}, inplace = True)"
   ]
  },
  {
   "cell_type": "code",
   "execution_count": null,
   "id": "22032a22",
   "metadata": {},
   "outputs": [],
   "source": [
    "# changing \"order_id\" data type to string\n",
    "df_ords['order_id'] = df_ords['order_id'].astype('str')"
   ]
  },
  {
   "cell_type": "code",
   "execution_count": null,
   "id": "e9ed7555",
   "metadata": {},
   "outputs": [],
   "source": [
    "df_ords['order_id'].dtype"
   ]
  },
  {
   "cell_type": "code",
   "execution_count": null,
   "id": "28ed07cc",
   "metadata": {},
   "outputs": [],
   "source": [
    "#importing departments data\n",
    "df_dep = pd.read_csv(os.path.join(path, '02 Data', 'Original Data', 'departments.csv'))"
   ]
  },
  {
   "cell_type": "code",
   "execution_count": null,
   "id": "7e7fab92",
   "metadata": {},
   "outputs": [],
   "source": [
    "df_dep.head()"
   ]
  },
  {
   "cell_type": "code",
   "execution_count": null,
   "id": "813758e4",
   "metadata": {},
   "outputs": [],
   "source": [
    "# transposing df_dep\n",
    "df_dep_t = df_dep.T"
   ]
  },
  {
   "cell_type": "code",
   "execution_count": null,
   "id": "9c1b73fc",
   "metadata": {},
   "outputs": [],
   "source": [
    "# creating new header\n",
    "new_header = df_dep_t.iloc[0]"
   ]
  },
  {
   "cell_type": "code",
   "execution_count": null,
   "id": "5e6a1df0",
   "metadata": {},
   "outputs": [],
   "source": [
    "# new data frame without the first row \\\n",
    "df_dep_t_new = df_dep_t[1:]"
   ]
  },
  {
   "cell_type": "code",
   "execution_count": null,
   "id": "a92af567",
   "metadata": {},
   "outputs": [],
   "source": [
    "df_dep_t_new"
   ]
  },
  {
   "cell_type": "code",
   "execution_count": null,
   "id": "764708ba",
   "metadata": {},
   "outputs": [],
   "source": [
    "# setting column headers\n",
    "df_dep_t_new.columns = new_header"
   ]
  },
  {
   "cell_type": "code",
   "execution_count": null,
   "id": "d02202ed",
   "metadata": {},
   "outputs": [],
   "source": [
    "df_dep_t_new"
   ]
  },
  {
   "cell_type": "code",
   "execution_count": null,
   "id": "69c90f67",
   "metadata": {},
   "outputs": [],
   "source": [
    "#turning departments data set into data dictionary\n",
    "data_dict = df_dep_t_new.to_dict('index')"
   ]
  },
  {
   "cell_type": "code",
   "execution_count": null,
   "id": "beb16edf",
   "metadata": {},
   "outputs": [],
   "source": [
    "data_dict"
   ]
  },
  {
   "cell_type": "code",
   "execution_count": null,
   "id": "6251c1a5",
   "metadata": {},
   "outputs": [],
   "source": [
    "df_prods.head()"
   ]
  },
  {
   "cell_type": "code",
   "execution_count": null,
   "id": "3aad1f46",
   "metadata": {},
   "outputs": [],
   "source": [
    "# using data dictionary to department of row 0 \n",
    "print(data_dict.get('19'))"
   ]
  },
  {
   "cell_type": "code",
   "execution_count": null,
   "id": "0382a5e2",
   "metadata": {},
   "outputs": [],
   "source": [
    "# creating subset of df_prods data set that only contains data from the snacks dept\n",
    "df_snacks =  df_prods[df_prods['department_id']==19]"
   ]
  },
  {
   "cell_type": "code",
   "execution_count": null,
   "id": "9ad98944",
   "metadata": {},
   "outputs": [],
   "source": [
    "df_snacks.head()"
   ]
  },
  {
   "cell_type": "markdown",
   "id": "c51b54b5",
   "metadata": {},
   "source": [
    "# Data wrangling from task 4.4"
   ]
  },
  {
   "cell_type": "markdown",
   "id": "83cb56ad",
   "metadata": {},
   "source": [
    "## Question 2"
   ]
  },
  {
   "cell_type": "code",
   "execution_count": null,
   "id": "4224dd31",
   "metadata": {},
   "outputs": [],
   "source": [
    "# changing \"user_id\" data type to string\n",
    "df_ords['user_id'] = df_ords['user_id'].astype('str')"
   ]
  },
  {
   "cell_type": "markdown",
   "id": "031a70a5",
   "metadata": {},
   "source": [
    "## Question 3"
   ]
  },
  {
   "cell_type": "code",
   "execution_count": null,
   "id": "9486db5d",
   "metadata": {},
   "outputs": [],
   "source": [
    "# Change variable name in df_ords dataframe from unintuitive to intuitive name without overwriting the original\n",
    "df_ords_2 = df_ords.rename(columns = {'user_id' : 'customer_id'}, inplace = False)"
   ]
  },
  {
   "cell_type": "markdown",
   "id": "ec1f6834",
   "metadata": {},
   "source": [
    "## Question 4"
   ]
  },
  {
   "cell_type": "code",
   "execution_count": null,
   "id": "0fc27b32",
   "metadata": {},
   "outputs": [],
   "source": [
    "# Find the frequency of the busiest hour for placing orders\n",
    "df_ords_2['order_hour_of_day'].value_counts()"
   ]
  },
  {
   "cell_type": "markdown",
   "id": "f13e0cd0",
   "metadata": {},
   "source": [
    "Hour 10 is the busiest hour for placing orders."
   ]
  },
  {
   "cell_type": "markdown",
   "id": "5833ec2d",
   "metadata": {},
   "source": [
    "## Question 5"
   ]
  },
  {
   "cell_type": "code",
   "execution_count": null,
   "id": "4ee15a66",
   "metadata": {},
   "outputs": [],
   "source": [
    "# Determine the meaning behind  4 in the \"department_id\" column within the df_prods dataframe \n",
    "print(data_dict.get('4'))"
   ]
  },
  {
   "cell_type": "markdown",
   "id": "ebfaa70b",
   "metadata": {},
   "source": [
    "## Question 6"
   ]
  },
  {
   "cell_type": "code",
   "execution_count": null,
   "id": "daef1f6c",
   "metadata": {},
   "outputs": [],
   "source": [
    "#breakfast item sales subset\n",
    "df_breakfast = df_prods[df_prods['department_id']==14]"
   ]
  },
  {
   "cell_type": "code",
   "execution_count": null,
   "id": "7d42e106",
   "metadata": {},
   "outputs": [],
   "source": [
    "df_breakfast"
   ]
  },
  {
   "cell_type": "markdown",
   "id": "ec92766b",
   "metadata": {},
   "source": [
    "## Question 7"
   ]
  },
  {
   "cell_type": "code",
   "execution_count": null,
   "id": "f63563c0",
   "metadata": {},
   "outputs": [],
   "source": [
    "# subset of customers who might be throwing dinner parties \n",
    "#including alcohol (5), deli (20), beverages (7), and meat/seafood depts(12)\n",
    "df_dinner_party = df_prods[df_prods['department_id'].isin([5, 20, 7, 12])]"
   ]
  },
  {
   "cell_type": "code",
   "execution_count": null,
   "id": "99f47a91",
   "metadata": {},
   "outputs": [],
   "source": [
    "df_dinner_party"
   ]
  },
  {
   "cell_type": "markdown",
   "id": "76152a56",
   "metadata": {},
   "source": [
    "##  Question 8"
   ]
  },
  {
   "cell_type": "markdown",
   "id": "1302875b",
   "metadata": {},
   "source": [
    "The last dataframe has 7650 rows."
   ]
  },
  {
   "cell_type": "markdown",
   "id": "391123de",
   "metadata": {},
   "source": [
    "## Question 9 "
   ]
  },
  {
   "cell_type": "code",
   "execution_count": null,
   "id": "4efbe73d",
   "metadata": {},
   "outputs": [],
   "source": [
    "#extracting information for customer with user_id 1\n",
    "df_customer_1 = df_ords_2[df_ords_2['customer_id']=='1']"
   ]
  },
  {
   "cell_type": "code",
   "execution_count": null,
   "id": "53f2ca50",
   "metadata": {},
   "outputs": [],
   "source": [
    "df_customer_1"
   ]
  },
  {
   "cell_type": "markdown",
   "id": "023b336e",
   "metadata": {},
   "source": [
    "## Question 10"
   ]
  },
  {
   "cell_type": "code",
   "execution_count": null,
   "id": "55cc4b5c",
   "metadata": {
    "scrolled": true
   },
   "outputs": [],
   "source": [
    "#user_id 1 basic stats\n",
    "df_customer_1.describe()"
   ]
  },
  {
   "cell_type": "markdown",
   "id": "bbef474a",
   "metadata": {},
   "source": [
    "The customer with the user_id of '1' has placed 11 total orders. The average number of days between orders for this customer is 19 and they tend to shop between on days 1-4 between the hours of 7 and 16."
   ]
  },
  {
   "cell_type": "markdown",
   "id": "962f47f2",
   "metadata": {},
   "source": [
    "## Question 12"
   ]
  },
  {
   "cell_type": "code",
   "execution_count": null,
   "id": "e96fcd03",
   "metadata": {},
   "outputs": [],
   "source": [
    "#Export df_ords dataframe as “orders_wrangled.csv” in “Prepared Data” folder\n",
    "df_ords_2.to_csv(os.path.join(path, '02 Data','Prepared Data', 'orders_wrangled.csv'))"
   ]
  },
  {
   "cell_type": "markdown",
   "id": "6bcdb59d",
   "metadata": {},
   "source": [
    "## Question 13"
   ]
  },
  {
   "cell_type": "code",
   "execution_count": 7,
   "id": "d3e48c15",
   "metadata": {},
   "outputs": [
    {
     "ename": "NameError",
     "evalue": "name 'df_dep_t_new' is not defined",
     "output_type": "error",
     "traceback": [
      "\u001b[1;31m---------------------------------------------------------------------------\u001b[0m",
      "\u001b[1;31mNameError\u001b[0m                                 Traceback (most recent call last)",
      "Input \u001b[1;32mIn [7]\u001b[0m, in \u001b[0;36m<cell line: 2>\u001b[1;34m()\u001b[0m\n\u001b[0;32m      1\u001b[0m \u001b[38;5;66;03m#Export the df_dep_t_new dataframe as “departments_wrangled.csv” in “Prepared Data” folder\u001b[39;00m\n\u001b[1;32m----> 2\u001b[0m \u001b[43mdf_dep_t_new\u001b[49m\u001b[38;5;241m.\u001b[39mto_csv(os\u001b[38;5;241m.\u001b[39mpath\u001b[38;5;241m.\u001b[39mjoin(path, \u001b[38;5;124m'\u001b[39m\u001b[38;5;124m02 Data\u001b[39m\u001b[38;5;124m'\u001b[39m,\u001b[38;5;124m'\u001b[39m\u001b[38;5;124mPrepared Data\u001b[39m\u001b[38;5;124m'\u001b[39m, \u001b[38;5;124m'\u001b[39m\u001b[38;5;124mdepartments_wrangled.csv\u001b[39m\u001b[38;5;124m'\u001b[39m))\n",
      "\u001b[1;31mNameError\u001b[0m: name 'df_dep_t_new' is not defined"
     ]
    }
   ],
   "source": [
    "#Export the df_dep_t_new dataframe as “departments_wrangled.csv” in “Prepared Data” folder\n",
    "df_dep_t_new.to_csv(os.path.join(path, '02 Data','Prepared Data', 'departments_wrangled.csv'))"
   ]
  },
  {
   "cell_type": "code",
   "execution_count": null,
   "id": "076daec2",
   "metadata": {},
   "outputs": [],
   "source": []
  },
  {
   "cell_type": "code",
   "execution_count": null,
   "id": "30d2bed4",
   "metadata": {},
   "outputs": [],
   "source": []
  }
 ],
 "metadata": {
  "kernelspec": {
   "display_name": "Python 3 (ipykernel)",
   "language": "python",
   "name": "python3"
  },
  "language_info": {
   "codemirror_mode": {
    "name": "ipython",
    "version": 3
   },
   "file_extension": ".py",
   "mimetype": "text/x-python",
   "name": "python",
   "nbconvert_exporter": "python",
   "pygments_lexer": "ipython3",
   "version": "3.9.12"
  }
 },
 "nbformat": 4,
 "nbformat_minor": 5
}
